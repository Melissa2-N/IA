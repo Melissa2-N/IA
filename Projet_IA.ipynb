{
  "cells": [
    {
      "cell_type": "markdown",
      "source": [
        "# **Importation des bibliothèques**"
      ],
      "metadata": {
        "id": "L_J7ocun0Kkf"
      }
    },
    {
      "cell_type": "code",
      "execution_count": 160,
      "metadata": {
        "id": "kW7hO85U91T0"
      },
      "outputs": [],
      "source": [
        "import numpy as np\n",
        "import pandas as pd\n",
        "import matplotlib.pyplot as plt\n",
        "import seaborn as sns\n",
        "from sklearn.model_selection import train_test_split\n",
        "from sklearn.pipeline import Pipeline, FeatureUnion\n",
        "from sklearn.metrics import accuracy_score,classification_report, f1_score, roc_curve, auc, confusion_matrix\n",
        "from sklearn.naive_bayes import MultinomialNB\n",
        "from sklearn.linear_model import LogisticRegression\n",
        "from sklearn.model_selection import GridSearchCV\n",
        "import re\n",
        "import string\n",
        "from nltk.corpus import stopwords\n",
        "from nltk.stem import PorterStemmer\n",
        "from sklearn.feature_extraction.text import CountVectorizer\n",
        "import joblib\n",
        "from sklearn.base import BaseEstimator, TransformerMixin\n",
        "import collections\n",
        "from pprint import pprint\n",
        "from time import time  # Correct\n",
        "from sklearn.utils.class_weight import compute_class_weight\n",
        "from sklearn.preprocessing import label_binarize"
      ]
    },
    {
      "cell_type": "markdown",
      "source": [
        "**Chargement des données et sélection des colonnes nécessaires pour atteindre l'objectif du projet**"
      ],
      "metadata": {
        "id": "Ebg7k9uF0ovB"
      }
    },
    {
      "cell_type": "code",
      "execution_count": null,
      "metadata": {
        "id": "GtPtFoy88EmW"
      },
      "outputs": [],
      "source": [
        "# Charger les données dans un DataFrame\n",
        "df = pd.read_csv(\"/content/Tweets.csv\")  # Exemple de lecture"
      ]
    },
    {
      "cell_type": "code",
      "execution_count": null,
      "metadata": {
        "colab": {
          "base_uri": "https://localhost:8080/",
          "height": 451
        },
        "id": "U-fQm5F_WSCL",
        "outputId": "9cf920b4-6320-433c-d798-319f7759aad3"
      },
      "outputs": [
        {
          "output_type": "execute_result",
          "data": {
            "text/plain": [
              "             tweet_id airline_sentiment  airline_sentiment_confidence  \\\n",
              "0  570306133677760513           neutral                        1.0000   \n",
              "1  570301130888122368          positive                        0.3486   \n",
              "2  570301083672813571           neutral                        0.6837   \n",
              "3  570301031407624196          negative                        1.0000   \n",
              "4  570300817074462722          negative                        1.0000   \n",
              "\n",
              "  negativereason  negativereason_confidence         airline  \\\n",
              "0            NaN                        NaN  Virgin America   \n",
              "1            NaN                     0.0000  Virgin America   \n",
              "2            NaN                        NaN  Virgin America   \n",
              "3     Bad Flight                     0.7033  Virgin America   \n",
              "4     Can't Tell                     1.0000  Virgin America   \n",
              "\n",
              "  airline_sentiment_gold        name negativereason_gold  retweet_count  \\\n",
              "0                    NaN     cairdin                 NaN              0   \n",
              "1                    NaN    jnardino                 NaN              0   \n",
              "2                    NaN  yvonnalynn                 NaN              0   \n",
              "3                    NaN    jnardino                 NaN              0   \n",
              "4                    NaN    jnardino                 NaN              0   \n",
              "\n",
              "                                                text tweet_coord  \\\n",
              "0                @VirginAmerica What @dhepburn said.         NaN   \n",
              "1  @VirginAmerica plus you've added commercials t...         NaN   \n",
              "2  @VirginAmerica I didn't today... Must mean I n...         NaN   \n",
              "3  @VirginAmerica it's really aggressive to blast...         NaN   \n",
              "4  @VirginAmerica and it's a really big bad thing...         NaN   \n",
              "\n",
              "               tweet_created tweet_location               user_timezone  \n",
              "0  2015-02-24 11:35:52 -0800            NaN  Eastern Time (US & Canada)  \n",
              "1  2015-02-24 11:15:59 -0800            NaN  Pacific Time (US & Canada)  \n",
              "2  2015-02-24 11:15:48 -0800      Lets Play  Central Time (US & Canada)  \n",
              "3  2015-02-24 11:15:36 -0800            NaN  Pacific Time (US & Canada)  \n",
              "4  2015-02-24 11:14:45 -0800            NaN  Pacific Time (US & Canada)  "
            ],
            "text/html": [
              "\n",
              "  <div id=\"df-d899e2c8-a379-4adb-90da-2da042282d41\" class=\"colab-df-container\">\n",
              "    <div>\n",
              "<style scoped>\n",
              "    .dataframe tbody tr th:only-of-type {\n",
              "        vertical-align: middle;\n",
              "    }\n",
              "\n",
              "    .dataframe tbody tr th {\n",
              "        vertical-align: top;\n",
              "    }\n",
              "\n",
              "    .dataframe thead th {\n",
              "        text-align: right;\n",
              "    }\n",
              "</style>\n",
              "<table border=\"1\" class=\"dataframe\">\n",
              "  <thead>\n",
              "    <tr style=\"text-align: right;\">\n",
              "      <th></th>\n",
              "      <th>tweet_id</th>\n",
              "      <th>airline_sentiment</th>\n",
              "      <th>airline_sentiment_confidence</th>\n",
              "      <th>negativereason</th>\n",
              "      <th>negativereason_confidence</th>\n",
              "      <th>airline</th>\n",
              "      <th>airline_sentiment_gold</th>\n",
              "      <th>name</th>\n",
              "      <th>negativereason_gold</th>\n",
              "      <th>retweet_count</th>\n",
              "      <th>text</th>\n",
              "      <th>tweet_coord</th>\n",
              "      <th>tweet_created</th>\n",
              "      <th>tweet_location</th>\n",
              "      <th>user_timezone</th>\n",
              "    </tr>\n",
              "  </thead>\n",
              "  <tbody>\n",
              "    <tr>\n",
              "      <th>0</th>\n",
              "      <td>570306133677760513</td>\n",
              "      <td>neutral</td>\n",
              "      <td>1.0000</td>\n",
              "      <td>NaN</td>\n",
              "      <td>NaN</td>\n",
              "      <td>Virgin America</td>\n",
              "      <td>NaN</td>\n",
              "      <td>cairdin</td>\n",
              "      <td>NaN</td>\n",
              "      <td>0</td>\n",
              "      <td>@VirginAmerica What @dhepburn said.</td>\n",
              "      <td>NaN</td>\n",
              "      <td>2015-02-24 11:35:52 -0800</td>\n",
              "      <td>NaN</td>\n",
              "      <td>Eastern Time (US &amp; Canada)</td>\n",
              "    </tr>\n",
              "    <tr>\n",
              "      <th>1</th>\n",
              "      <td>570301130888122368</td>\n",
              "      <td>positive</td>\n",
              "      <td>0.3486</td>\n",
              "      <td>NaN</td>\n",
              "      <td>0.0000</td>\n",
              "      <td>Virgin America</td>\n",
              "      <td>NaN</td>\n",
              "      <td>jnardino</td>\n",
              "      <td>NaN</td>\n",
              "      <td>0</td>\n",
              "      <td>@VirginAmerica plus you've added commercials t...</td>\n",
              "      <td>NaN</td>\n",
              "      <td>2015-02-24 11:15:59 -0800</td>\n",
              "      <td>NaN</td>\n",
              "      <td>Pacific Time (US &amp; Canada)</td>\n",
              "    </tr>\n",
              "    <tr>\n",
              "      <th>2</th>\n",
              "      <td>570301083672813571</td>\n",
              "      <td>neutral</td>\n",
              "      <td>0.6837</td>\n",
              "      <td>NaN</td>\n",
              "      <td>NaN</td>\n",
              "      <td>Virgin America</td>\n",
              "      <td>NaN</td>\n",
              "      <td>yvonnalynn</td>\n",
              "      <td>NaN</td>\n",
              "      <td>0</td>\n",
              "      <td>@VirginAmerica I didn't today... Must mean I n...</td>\n",
              "      <td>NaN</td>\n",
              "      <td>2015-02-24 11:15:48 -0800</td>\n",
              "      <td>Lets Play</td>\n",
              "      <td>Central Time (US &amp; Canada)</td>\n",
              "    </tr>\n",
              "    <tr>\n",
              "      <th>3</th>\n",
              "      <td>570301031407624196</td>\n",
              "      <td>negative</td>\n",
              "      <td>1.0000</td>\n",
              "      <td>Bad Flight</td>\n",
              "      <td>0.7033</td>\n",
              "      <td>Virgin America</td>\n",
              "      <td>NaN</td>\n",
              "      <td>jnardino</td>\n",
              "      <td>NaN</td>\n",
              "      <td>0</td>\n",
              "      <td>@VirginAmerica it's really aggressive to blast...</td>\n",
              "      <td>NaN</td>\n",
              "      <td>2015-02-24 11:15:36 -0800</td>\n",
              "      <td>NaN</td>\n",
              "      <td>Pacific Time (US &amp; Canada)</td>\n",
              "    </tr>\n",
              "    <tr>\n",
              "      <th>4</th>\n",
              "      <td>570300817074462722</td>\n",
              "      <td>negative</td>\n",
              "      <td>1.0000</td>\n",
              "      <td>Can't Tell</td>\n",
              "      <td>1.0000</td>\n",
              "      <td>Virgin America</td>\n",
              "      <td>NaN</td>\n",
              "      <td>jnardino</td>\n",
              "      <td>NaN</td>\n",
              "      <td>0</td>\n",
              "      <td>@VirginAmerica and it's a really big bad thing...</td>\n",
              "      <td>NaN</td>\n",
              "      <td>2015-02-24 11:14:45 -0800</td>\n",
              "      <td>NaN</td>\n",
              "      <td>Pacific Time (US &amp; Canada)</td>\n",
              "    </tr>\n",
              "  </tbody>\n",
              "</table>\n",
              "</div>\n",
              "    <div class=\"colab-df-buttons\">\n",
              "\n",
              "  <div class=\"colab-df-container\">\n",
              "    <button class=\"colab-df-convert\" onclick=\"convertToInteractive('df-d899e2c8-a379-4adb-90da-2da042282d41')\"\n",
              "            title=\"Convert this dataframe to an interactive table.\"\n",
              "            style=\"display:none;\">\n",
              "\n",
              "  <svg xmlns=\"http://www.w3.org/2000/svg\" height=\"24px\" viewBox=\"0 -960 960 960\">\n",
              "    <path d=\"M120-120v-720h720v720H120Zm60-500h600v-160H180v160Zm220 220h160v-160H400v160Zm0 220h160v-160H400v160ZM180-400h160v-160H180v160Zm440 0h160v-160H620v160ZM180-180h160v-160H180v160Zm440 0h160v-160H620v160Z\"/>\n",
              "  </svg>\n",
              "    </button>\n",
              "\n",
              "  <style>\n",
              "    .colab-df-container {\n",
              "      display:flex;\n",
              "      gap: 12px;\n",
              "    }\n",
              "\n",
              "    .colab-df-convert {\n",
              "      background-color: #E8F0FE;\n",
              "      border: none;\n",
              "      border-radius: 50%;\n",
              "      cursor: pointer;\n",
              "      display: none;\n",
              "      fill: #1967D2;\n",
              "      height: 32px;\n",
              "      padding: 0 0 0 0;\n",
              "      width: 32px;\n",
              "    }\n",
              "\n",
              "    .colab-df-convert:hover {\n",
              "      background-color: #E2EBFA;\n",
              "      box-shadow: 0px 1px 2px rgba(60, 64, 67, 0.3), 0px 1px 3px 1px rgba(60, 64, 67, 0.15);\n",
              "      fill: #174EA6;\n",
              "    }\n",
              "\n",
              "    .colab-df-buttons div {\n",
              "      margin-bottom: 4px;\n",
              "    }\n",
              "\n",
              "    [theme=dark] .colab-df-convert {\n",
              "      background-color: #3B4455;\n",
              "      fill: #D2E3FC;\n",
              "    }\n",
              "\n",
              "    [theme=dark] .colab-df-convert:hover {\n",
              "      background-color: #434B5C;\n",
              "      box-shadow: 0px 1px 3px 1px rgba(0, 0, 0, 0.15);\n",
              "      filter: drop-shadow(0px 1px 2px rgba(0, 0, 0, 0.3));\n",
              "      fill: #FFFFFF;\n",
              "    }\n",
              "  </style>\n",
              "\n",
              "    <script>\n",
              "      const buttonEl =\n",
              "        document.querySelector('#df-d899e2c8-a379-4adb-90da-2da042282d41 button.colab-df-convert');\n",
              "      buttonEl.style.display =\n",
              "        google.colab.kernel.accessAllowed ? 'block' : 'none';\n",
              "\n",
              "      async function convertToInteractive(key) {\n",
              "        const element = document.querySelector('#df-d899e2c8-a379-4adb-90da-2da042282d41');\n",
              "        const dataTable =\n",
              "          await google.colab.kernel.invokeFunction('convertToInteractive',\n",
              "                                                    [key], {});\n",
              "        if (!dataTable) return;\n",
              "\n",
              "        const docLinkHtml = 'Like what you see? Visit the ' +\n",
              "          '<a target=\"_blank\" href=https://colab.research.google.com/notebooks/data_table.ipynb>data table notebook</a>'\n",
              "          + ' to learn more about interactive tables.';\n",
              "        element.innerHTML = '';\n",
              "        dataTable['output_type'] = 'display_data';\n",
              "        await google.colab.output.renderOutput(dataTable, element);\n",
              "        const docLink = document.createElement('div');\n",
              "        docLink.innerHTML = docLinkHtml;\n",
              "        element.appendChild(docLink);\n",
              "      }\n",
              "    </script>\n",
              "  </div>\n",
              "\n",
              "\n",
              "<div id=\"df-7454b61c-08e1-4ce8-adc7-dc15e76f81a5\">\n",
              "  <button class=\"colab-df-quickchart\" onclick=\"quickchart('df-7454b61c-08e1-4ce8-adc7-dc15e76f81a5')\"\n",
              "            title=\"Suggest charts\"\n",
              "            style=\"display:none;\">\n",
              "\n",
              "<svg xmlns=\"http://www.w3.org/2000/svg\" height=\"24px\"viewBox=\"0 0 24 24\"\n",
              "     width=\"24px\">\n",
              "    <g>\n",
              "        <path d=\"M19 3H5c-1.1 0-2 .9-2 2v14c0 1.1.9 2 2 2h14c1.1 0 2-.9 2-2V5c0-1.1-.9-2-2-2zM9 17H7v-7h2v7zm4 0h-2V7h2v10zm4 0h-2v-4h2v4z\"/>\n",
              "    </g>\n",
              "</svg>\n",
              "  </button>\n",
              "\n",
              "<style>\n",
              "  .colab-df-quickchart {\n",
              "      --bg-color: #E8F0FE;\n",
              "      --fill-color: #1967D2;\n",
              "      --hover-bg-color: #E2EBFA;\n",
              "      --hover-fill-color: #174EA6;\n",
              "      --disabled-fill-color: #AAA;\n",
              "      --disabled-bg-color: #DDD;\n",
              "  }\n",
              "\n",
              "  [theme=dark] .colab-df-quickchart {\n",
              "      --bg-color: #3B4455;\n",
              "      --fill-color: #D2E3FC;\n",
              "      --hover-bg-color: #434B5C;\n",
              "      --hover-fill-color: #FFFFFF;\n",
              "      --disabled-bg-color: #3B4455;\n",
              "      --disabled-fill-color: #666;\n",
              "  }\n",
              "\n",
              "  .colab-df-quickchart {\n",
              "    background-color: var(--bg-color);\n",
              "    border: none;\n",
              "    border-radius: 50%;\n",
              "    cursor: pointer;\n",
              "    display: none;\n",
              "    fill: var(--fill-color);\n",
              "    height: 32px;\n",
              "    padding: 0;\n",
              "    width: 32px;\n",
              "  }\n",
              "\n",
              "  .colab-df-quickchart:hover {\n",
              "    background-color: var(--hover-bg-color);\n",
              "    box-shadow: 0 1px 2px rgba(60, 64, 67, 0.3), 0 1px 3px 1px rgba(60, 64, 67, 0.15);\n",
              "    fill: var(--button-hover-fill-color);\n",
              "  }\n",
              "\n",
              "  .colab-df-quickchart-complete:disabled,\n",
              "  .colab-df-quickchart-complete:disabled:hover {\n",
              "    background-color: var(--disabled-bg-color);\n",
              "    fill: var(--disabled-fill-color);\n",
              "    box-shadow: none;\n",
              "  }\n",
              "\n",
              "  .colab-df-spinner {\n",
              "    border: 2px solid var(--fill-color);\n",
              "    border-color: transparent;\n",
              "    border-bottom-color: var(--fill-color);\n",
              "    animation:\n",
              "      spin 1s steps(1) infinite;\n",
              "  }\n",
              "\n",
              "  @keyframes spin {\n",
              "    0% {\n",
              "      border-color: transparent;\n",
              "      border-bottom-color: var(--fill-color);\n",
              "      border-left-color: var(--fill-color);\n",
              "    }\n",
              "    20% {\n",
              "      border-color: transparent;\n",
              "      border-left-color: var(--fill-color);\n",
              "      border-top-color: var(--fill-color);\n",
              "    }\n",
              "    30% {\n",
              "      border-color: transparent;\n",
              "      border-left-color: var(--fill-color);\n",
              "      border-top-color: var(--fill-color);\n",
              "      border-right-color: var(--fill-color);\n",
              "    }\n",
              "    40% {\n",
              "      border-color: transparent;\n",
              "      border-right-color: var(--fill-color);\n",
              "      border-top-color: var(--fill-color);\n",
              "    }\n",
              "    60% {\n",
              "      border-color: transparent;\n",
              "      border-right-color: var(--fill-color);\n",
              "    }\n",
              "    80% {\n",
              "      border-color: transparent;\n",
              "      border-right-color: var(--fill-color);\n",
              "      border-bottom-color: var(--fill-color);\n",
              "    }\n",
              "    90% {\n",
              "      border-color: transparent;\n",
              "      border-bottom-color: var(--fill-color);\n",
              "    }\n",
              "  }\n",
              "</style>\n",
              "\n",
              "  <script>\n",
              "    async function quickchart(key) {\n",
              "      const quickchartButtonEl =\n",
              "        document.querySelector('#' + key + ' button');\n",
              "      quickchartButtonEl.disabled = true;  // To prevent multiple clicks.\n",
              "      quickchartButtonEl.classList.add('colab-df-spinner');\n",
              "      try {\n",
              "        const charts = await google.colab.kernel.invokeFunction(\n",
              "            'suggestCharts', [key], {});\n",
              "      } catch (error) {\n",
              "        console.error('Error during call to suggestCharts:', error);\n",
              "      }\n",
              "      quickchartButtonEl.classList.remove('colab-df-spinner');\n",
              "      quickchartButtonEl.classList.add('colab-df-quickchart-complete');\n",
              "    }\n",
              "    (() => {\n",
              "      let quickchartButtonEl =\n",
              "        document.querySelector('#df-7454b61c-08e1-4ce8-adc7-dc15e76f81a5 button');\n",
              "      quickchartButtonEl.style.display =\n",
              "        google.colab.kernel.accessAllowed ? 'block' : 'none';\n",
              "    })();\n",
              "  </script>\n",
              "</div>\n",
              "\n",
              "    </div>\n",
              "  </div>\n"
            ],
            "application/vnd.google.colaboratory.intrinsic+json": {
              "type": "dataframe",
              "variable_name": "df",
              "summary": "{\n  \"name\": \"df\",\n  \"rows\": 14640,\n  \"fields\": [\n    {\n      \"column\": \"tweet_id\",\n      \"properties\": {\n        \"dtype\": \"number\",\n        \"std\": 779111158481836,\n        \"min\": 567588278875213824,\n        \"max\": 570310600460525568,\n        \"num_unique_values\": 14485,\n        \"samples\": [\n          567917894144770049,\n          567813976492417024,\n          569243676594941953\n        ],\n        \"semantic_type\": \"\",\n        \"description\": \"\"\n      }\n    },\n    {\n      \"column\": \"airline_sentiment\",\n      \"properties\": {\n        \"dtype\": \"category\",\n        \"num_unique_values\": 3,\n        \"samples\": [\n          \"neutral\",\n          \"positive\",\n          \"negative\"\n        ],\n        \"semantic_type\": \"\",\n        \"description\": \"\"\n      }\n    },\n    {\n      \"column\": \"airline_sentiment_confidence\",\n      \"properties\": {\n        \"dtype\": \"number\",\n        \"std\": 0.1628299590986659,\n        \"min\": 0.335,\n        \"max\": 1.0,\n        \"num_unique_values\": 1023,\n        \"samples\": [\n          0.6723,\n          0.3551,\n          0.6498\n        ],\n        \"semantic_type\": \"\",\n        \"description\": \"\"\n      }\n    },\n    {\n      \"column\": \"negativereason\",\n      \"properties\": {\n        \"dtype\": \"category\",\n        \"num_unique_values\": 10,\n        \"samples\": [\n          \"Damaged Luggage\",\n          \"Can't Tell\",\n          \"Lost Luggage\"\n        ],\n        \"semantic_type\": \"\",\n        \"description\": \"\"\n      }\n    },\n    {\n      \"column\": \"negativereason_confidence\",\n      \"properties\": {\n        \"dtype\": \"number\",\n        \"std\": 0.3304397596377413,\n        \"min\": 0.0,\n        \"max\": 1.0,\n        \"num_unique_values\": 1410,\n        \"samples\": [\n          0.6677,\n          0.6622,\n          0.6905\n        ],\n        \"semantic_type\": \"\",\n        \"description\": \"\"\n      }\n    },\n    {\n      \"column\": \"airline\",\n      \"properties\": {\n        \"dtype\": \"category\",\n        \"num_unique_values\": 6,\n        \"samples\": [\n          \"Virgin America\",\n          \"United\",\n          \"American\"\n        ],\n        \"semantic_type\": \"\",\n        \"description\": \"\"\n      }\n    },\n    {\n      \"column\": \"airline_sentiment_gold\",\n      \"properties\": {\n        \"dtype\": \"category\",\n        \"num_unique_values\": 3,\n        \"samples\": [\n          \"negative\",\n          \"neutral\",\n          \"positive\"\n        ],\n        \"semantic_type\": \"\",\n        \"description\": \"\"\n      }\n    },\n    {\n      \"column\": \"name\",\n      \"properties\": {\n        \"dtype\": \"string\",\n        \"num_unique_values\": 7701,\n        \"samples\": [\n          \"smckenna719\",\n          \"thisAnneM\",\n          \"jmspool\"\n        ],\n        \"semantic_type\": \"\",\n        \"description\": \"\"\n      }\n    },\n    {\n      \"column\": \"negativereason_gold\",\n      \"properties\": {\n        \"dtype\": \"category\",\n        \"num_unique_values\": 13,\n        \"samples\": [\n          \"Customer Service Issue\\nLost Luggage\",\n          \"Late Flight\\nCancelled Flight\",\n          \"Late Flight\\nFlight Attendant Complaints\"\n        ],\n        \"semantic_type\": \"\",\n        \"description\": \"\"\n      }\n    },\n    {\n      \"column\": \"retweet_count\",\n      \"properties\": {\n        \"dtype\": \"number\",\n        \"std\": 0,\n        \"min\": 0,\n        \"max\": 44,\n        \"num_unique_values\": 18,\n        \"samples\": [\n          0,\n          1,\n          6\n        ],\n        \"semantic_type\": \"\",\n        \"description\": \"\"\n      }\n    },\n    {\n      \"column\": \"text\",\n      \"properties\": {\n        \"dtype\": \"string\",\n        \"num_unique_values\": 14427,\n        \"samples\": [\n          \"@JetBlue so technically I could drive to JFK now and put in. Request for tomorrow's flight?\",\n          \"@united why I won't check my carry on. Watched a handler throw this bag -- miss the conveyer belt -- sat there 10 min http://t.co/lyoocx5mSH\",\n          \"@SouthwestAir you guys are so clever \\ud83d\\ude03 http://t.co/qn5odUGFqK\"\n        ],\n        \"semantic_type\": \"\",\n        \"description\": \"\"\n      }\n    },\n    {\n      \"column\": \"tweet_coord\",\n      \"properties\": {\n        \"dtype\": \"category\",\n        \"num_unique_values\": 832,\n        \"samples\": [\n          \"[40.04915451, -75.10364317]\",\n          \"[32.97609561, -96.53349238]\",\n          \"[26.37852293, -81.78472152]\"\n        ],\n        \"semantic_type\": \"\",\n        \"description\": \"\"\n      }\n    },\n    {\n      \"column\": \"tweet_created\",\n      \"properties\": {\n        \"dtype\": \"object\",\n        \"num_unique_values\": 14247,\n        \"samples\": [\n          \"2015-02-23 07:40:55 -0800\",\n          \"2015-02-21 16:20:09 -0800\",\n          \"2015-02-21 21:33:21 -0800\"\n        ],\n        \"semantic_type\": \"\",\n        \"description\": \"\"\n      }\n    },\n    {\n      \"column\": \"tweet_location\",\n      \"properties\": {\n        \"dtype\": \"category\",\n        \"num_unique_values\": 3081,\n        \"samples\": [\n          \"Oakland, California\",\n          \"Beverly Hills, CA\",\n          \"Austin, TX/NY, NY\"\n        ],\n        \"semantic_type\": \"\",\n        \"description\": \"\"\n      }\n    },\n    {\n      \"column\": \"user_timezone\",\n      \"properties\": {\n        \"dtype\": \"category\",\n        \"num_unique_values\": 85,\n        \"samples\": [\n          \"Helsinki\",\n          \"Eastern Time (US & Canada)\",\n          \"America/Detroit\"\n        ],\n        \"semantic_type\": \"\",\n        \"description\": \"\"\n      }\n    }\n  ]\n}"
            }
          },
          "metadata": {},
          "execution_count": 3
        }
      ],
      "source": [
        "#afficher quelque lignes de la base de données\n",
        "df.head()"
      ]
    },
    {
      "cell_type": "code",
      "execution_count": null,
      "metadata": {
        "colab": {
          "base_uri": "https://localhost:8080/"
        },
        "id": "NVcZCVc1V3Uj",
        "outputId": "1853b18e-48f3-45e7-96c2-1ba523264180"
      },
      "outputs": [
        {
          "output_type": "execute_result",
          "data": {
            "text/plain": [
              "(14404, 15)"
            ]
          },
          "metadata": {},
          "execution_count": 4
        }
      ],
      "source": [
        "# Supprimer les lignes où 'airline_sentiment_confidence' est inférieur à 0.5\n",
        "df = df[df['airline_sentiment_confidence'] >= 0.5]\n",
        "df.shape"
      ]
    },
    {
      "cell_type": "code",
      "execution_count": null,
      "metadata": {
        "colab": {
          "base_uri": "https://localhost:8080/"
        },
        "id": "fk1QKz1eFzJT",
        "outputId": "b4f0a459-cd0e-447e-953d-3b92e18ca5fc"
      },
      "outputs": [
        {
          "output_type": "execute_result",
          "data": {
            "text/plain": [
              "Index(['text', 'airline_sentiment'], dtype='object')"
            ]
          },
          "metadata": {},
          "execution_count": 5
        }
      ],
      "source": [
        "# Conserver uniquement les colonnes nécessaires\n",
        "colonnes_a_garder = ['text', 'airline_sentiment']\n",
        "df = df[colonnes_a_garder]\n",
        "\n",
        "# Afficher le DataFrame mis à jour\n",
        "df.columns"
      ]
    },
    {
      "cell_type": "markdown",
      "source": [
        "**Analyse et prétraitement des données**"
      ],
      "metadata": {
        "id": "uea74lBx1Pjq"
      }
    },
    {
      "cell_type": "code",
      "execution_count": null,
      "metadata": {
        "colab": {
          "base_uri": "https://localhost:8080/",
          "height": 748
        },
        "id": "_dJbypI5H8xX",
        "outputId": "c8b790f7-9e1d-4b0e-eacb-0b1abc182975"
      },
      "outputs": [
        {
          "output_type": "stream",
          "name": "stderr",
          "text": [
            "<ipython-input-6-cd7013f2dcd1>:3: FutureWarning: \n",
            "\n",
            "Passing `palette` without assigning `hue` is deprecated and will be removed in v0.14.0. Assign the `x` variable to `hue` and set `legend=False` for the same effect.\n",
            "\n",
            "  sns.catplot(\n",
            "<ipython-input-6-cd7013f2dcd1>:3: UserWarning: The palette list has more values (5) than needed (3), which may not be intended.\n",
            "  sns.catplot(\n"
          ]
        },
        {
          "output_type": "display_data",
          "data": {
            "text/plain": [
              "<Figure size 360x600 with 1 Axes>"
            ],
            "image/png": "[encoded data removed]"
          },
          "metadata": {}
        }
      ],
      "source": [
        "# Analyse du nombre d'exemples répartis dans chaque catégories\n",
        "light_green_palette = sns.color_palette(\"Greens\", n_colors=5)\n",
        "sns.catplot(\n",
        "    x=\"airline_sentiment\",\n",
        "    data=df,\n",
        "    kind=\"count\",\n",
        "    height=6,\n",
        "    aspect=0.6,\n",
        "     palette=light_green_palette      # Palette de couleurs (du clair au foncé dans des tons verts/bleus)\n",
        ")\n",
        "plt.show()                  # Affiche le graphique"
      ]
    },
    {
      "cell_type": "code",
      "execution_count": null,
      "metadata": {
        "id": "BzwQQ2iiJKh5"
      },
      "outputs": [],
      "source": [
        "#Analyse nombre de mots, hashtag ,url... par chaque tweet\n",
        "class TextCounts(BaseEstimator, TransformerMixin):\n",
        "\n",
        "    def count_regex(self, pattern, tweet):\n",
        "        return len(re.findall(pattern, tweet))\n",
        "\n",
        "    def fit(self, X, y=None, **fit_params):\n",
        "        # La méthode fit est utilisée quand des opérations spécifiques doivent être faites sur les données d'entraînement\n",
        "        return self\n",
        "\n",
        "    def transform(self, X, **transform_params):\n",
        "        # Calcul des différentes caractéristiques textuelles\n",
        "        count_words = X.apply(lambda x: self.count_regex(r'\\w+', x))  # Nombre de mots\n",
        "        count_mentions = X.apply(lambda x: self.count_regex(r'@\\w+', x))  # Nombre de mentions\n",
        "        count_hashtags = X.apply(lambda x: self.count_regex(r'#\\w+', x))  # Nombre de hashtags\n",
        "        count_capital_words = X.apply(lambda x: self.count_regex(r'\\b[A-Z]{2,}\\b', x))  # Nombre de mots en majuscules\n",
        "        count_excl_quest_marks = X.apply(lambda x: self.count_regex(r'!|\\?', x))  # Nombre de \"!\" ou \"?\"\n",
        "        count_urls = X.apply(lambda x: self.count_regex(r'http.?://[^\\s]+[\\s]?', x))  # Nombre d'URLs\n",
        "\n",
        "        # Création du DataFrame avec les nouvelles caractéristiques\n",
        "        df = pd.DataFrame({'count_words': count_words,\n",
        "                           'count_mentions': count_mentions,\n",
        "                           'count_hashtags': count_hashtags,\n",
        "                           'count_capital_words': count_capital_words,\n",
        "                           'count_excl_quest_marks': count_excl_quest_marks,\n",
        "                           'count_urls': count_urls\n",
        "                          })\n",
        "\n",
        "        return df\n",
        "\n",
        "# Application de la transformation\n",
        "tc = TextCounts()\n",
        "df_eda = tc.fit_transform(df.text)\n",
        "df_eda['airline_sentiment'] = df.airline_sentiment"
      ]
    },
    {
      "cell_type": "code",
      "execution_count": null,
      "metadata": {
        "colab": {
          "base_uri": "https://localhost:8080/",
          "height": 226
        },
        "id": "FCPXhvNUNht7",
        "outputId": "c372079e-103f-4a9a-d837-7865604f8690"
      },
      "outputs": [
        {
          "output_type": "execute_result",
          "data": {
            "text/plain": [
              "   count_words  count_mentions  count_hashtags  count_capital_words  \\\n",
              "0            4               2               0                    0   \n",
              "2           13               1               0                    0   \n",
              "3           18               1               0                    0   \n",
              "4           11               1               0                    0   \n",
              "5           25               1               0                    1   \n",
              "\n",
              "   count_excl_quest_marks  count_urls airline_sentiment  \n",
              "0                       0           0           neutral  \n",
              "2                       1           0           neutral  \n",
              "3                       0           0          negative  \n",
              "4                       0           0          negative  \n",
              "5                       0           0          negative  "
            ],
            "text/html": [
              "\n",
              "  <div id=\"df-10caa45e-6152-4b15-b385-4a9cd8754cf4\" class=\"colab-df-container\">\n",
              "    <div>\n",
              "<style scoped>\n",
              "    .dataframe tbody tr th:only-of-type {\n",
              "        vertical-align: middle;\n",
              "    }\n",
              "\n",
              "    .dataframe tbody tr th {\n",
              "        vertical-align: top;\n",
              "    }\n",
              "\n",
              "    .dataframe thead th {\n",
              "        text-align: right;\n",
              "    }\n",
              "</style>\n",
              "<table border=\"1\" class=\"dataframe\">\n",
              "  <thead>\n",
              "    <tr style=\"text-align: right;\">\n",
              "      <th></th>\n",
              "      <th>count_words</th>\n",
              "      <th>count_mentions</th>\n",
              "      <th>count_hashtags</th>\n",
              "      <th>count_capital_words</th>\n",
              "      <th>count_excl_quest_marks</th>\n",
              "      <th>count_urls</th>\n",
              "      <th>airline_sentiment</th>\n",
              "    </tr>\n",
              "  </thead>\n",
              "  <tbody>\n",
              "    <tr>\n",
              "      <th>0</th>\n",
              "      <td>4</td>\n",
              "      <td>2</td>\n",
              "      <td>0</td>\n",
              "      <td>0</td>\n",
              "      <td>0</td>\n",
              "      <td>0</td>\n",
              "      <td>neutral</td>\n",
              "    </tr>\n",
              "    <tr>\n",
              "      <th>2</th>\n",
              "      <td>13</td>\n",
              "      <td>1</td>\n",
              "      <td>0</td>\n",
              "      <td>0</td>\n",
              "      <td>1</td>\n",
              "      <td>0</td>\n",
              "      <td>neutral</td>\n",
              "    </tr>\n",
              "    <tr>\n",
              "      <th>3</th>\n",
              "      <td>18</td>\n",
              "      <td>1</td>\n",
              "      <td>0</td>\n",
              "      <td>0</td>\n",
              "      <td>0</td>\n",
              "      <td>0</td>\n",
              "      <td>negative</td>\n",
              "    </tr>\n",
              "    <tr>\n",
              "      <th>4</th>\n",
              "      <td>11</td>\n",
              "      <td>1</td>\n",
              "      <td>0</td>\n",
              "      <td>0</td>\n",
              "      <td>0</td>\n",
              "      <td>0</td>\n",
              "      <td>negative</td>\n",
              "    </tr>\n",
              "    <tr>\n",
              "      <th>5</th>\n",
              "      <td>25</td>\n",
              "      <td>1</td>\n",
              "      <td>0</td>\n",
              "      <td>1</td>\n",
              "      <td>0</td>\n",
              "      <td>0</td>\n",
              "      <td>negative</td>\n",
              "    </tr>\n",
              "  </tbody>\n",
              "</table>\n",
              "</div>\n",
              "    <div class=\"colab-df-buttons\">\n",
              "\n",
              "  <div class=\"colab-df-container\">\n",
              "    <button class=\"colab-df-convert\" onclick=\"convertToInteractive('df-10caa45e-6152-4b15-b385-4a9cd8754cf4')\"\n",
              "            title=\"Convert this dataframe to an interactive table.\"\n",
              "            style=\"display:none;\">\n",
              "\n",
              "  <svg xmlns=\"http://www.w3.org/2000/svg\" height=\"24px\" viewBox=\"0 -960 960 960\">\n",
              "    <path d=\"M120-120v-720h720v720H120Zm60-500h600v-160H180v160Zm220 220h160v-160H400v160Zm0 220h160v-160H400v160ZM180-400h160v-160H180v160Zm440 0h160v-160H620v160ZM180-180h160v-160H180v160Zm440 0h160v-160H620v160Z\"/>\n",
              "  </svg>\n",
              "    </button>\n",
              "\n",
              "  <style>\n",
              "    .colab-df-container {\n",
              "      display:flex;\n",
              "      gap: 12px;\n",
              "    }\n",
              "\n",
              "    .colab-df-convert {\n",
              "      background-color: #E8F0FE;\n",
              "      border: none;\n",
              "      border-radius: 50%;\n",
              "      cursor: pointer;\n",
              "      display: none;\n",
              "      fill: #1967D2;\n",
              "      height: 32px;\n",
              "      padding: 0 0 0 0;\n",
              "      width: 32px;\n",
              "    }\n",
              "\n",
              "    .colab-df-convert:hover {\n",
              "      background-color: #E2EBFA;\n",
              "      box-shadow: 0px 1px 2px rgba(60, 64, 67, 0.3), 0px 1px 3px 1px rgba(60, 64, 67, 0.15);\n",
              "      fill: #174EA6;\n",
              "    }\n",
              "\n",
              "    .colab-df-buttons div {\n",
              "      margin-bottom: 4px;\n",
              "    }\n",
              "\n",
              "    [theme=dark] .colab-df-convert {\n",
              "      background-color: #3B4455;\n",
              "      fill: #D2E3FC;\n",
              "    }\n",
              "\n",
              "    [theme=dark] .colab-df-convert:hover {\n",
              "      background-color: #434B5C;\n",
              "      box-shadow: 0px 1px 3px 1px rgba(0, 0, 0, 0.15);\n",
              "      filter: drop-shadow(0px 1px 2px rgba(0, 0, 0, 0.3));\n",
              "      fill: #FFFFFF;\n",
              "    }\n",
              "  </style>\n",
              "\n",
              "    <script>\n",
              "      const buttonEl =\n",
              "        document.querySelector('#df-10caa45e-6152-4b15-b385-4a9cd8754cf4 button.colab-df-convert');\n",
              "      buttonEl.style.display =\n",
              "        google.colab.kernel.accessAllowed ? 'block' : 'none';\n",
              "\n",
              "      async function convertToInteractive(key) {\n",
              "        const element = document.querySelector('#df-10caa45e-6152-4b15-b385-4a9cd8754cf4');\n",
              "        const dataTable =\n",
              "          await google.colab.kernel.invokeFunction('convertToInteractive',\n",
              "                                                    [key], {});\n",
              "        if (!dataTable) return;\n",
              "\n",
              "        const docLinkHtml = 'Like what you see? Visit the ' +\n",
              "          '<a target=\"_blank\" href=https://colab.research.google.com/notebooks/data_table.ipynb>data table notebook</a>'\n",
              "          + ' to learn more about interactive tables.';\n",
              "        element.innerHTML = '';\n",
              "        dataTable['output_type'] = 'display_data';\n",
              "        await google.colab.output.renderOutput(dataTable, element);\n",
              "        const docLink = document.createElement('div');\n",
              "        docLink.innerHTML = docLinkHtml;\n",
              "        element.appendChild(docLink);\n",
              "      }\n",
              "    </script>\n",
              "  </div>\n",
              "\n",
              "\n",
              "<div id=\"df-83c884ef-1c29-480b-ae80-5d56f4192ae4\">\n",
              "  <button class=\"colab-df-quickchart\" onclick=\"quickchart('df-83c884ef-1c29-480b-ae80-5d56f4192ae4')\"\n",
              "            title=\"Suggest charts\"\n",
              "            style=\"display:none;\">\n",
              "\n",
              "<svg xmlns=\"http://www.w3.org/2000/svg\" height=\"24px\"viewBox=\"0 0 24 24\"\n",
              "     width=\"24px\">\n",
              "    <g>\n",
              "        <path d=\"M19 3H5c-1.1 0-2 .9-2 2v14c0 1.1.9 2 2 2h14c1.1 0 2-.9 2-2V5c0-1.1-.9-2-2-2zM9 17H7v-7h2v7zm4 0h-2V7h2v10zm4 0h-2v-4h2v4z\"/>\n",
              "    </g>\n",
              "</svg>\n",
              "  </button>\n",
              "\n",
              "<style>\n",
              "  .colab-df-quickchart {\n",
              "      --bg-color: #E8F0FE;\n",
              "      --fill-color: #1967D2;\n",
              "      --hover-bg-color: #E2EBFA;\n",
              "      --hover-fill-color: #174EA6;\n",
              "      --disabled-fill-color: #AAA;\n",
              "      --disabled-bg-color: #DDD;\n",
              "  }\n",
              "\n",
              "  [theme=dark] .colab-df-quickchart {\n",
              "      --bg-color: #3B4455;\n",
              "      --fill-color: #D2E3FC;\n",
              "      --hover-bg-color: #434B5C;\n",
              "      --hover-fill-color: #FFFFFF;\n",
              "      --disabled-bg-color: #3B4455;\n",
              "      --disabled-fill-color: #666;\n",
              "  }\n",
              "\n",
              "  .colab-df-quickchart {\n",
              "    background-color: var(--bg-color);\n",
              "    border: none;\n",
              "    border-radius: 50%;\n",
              "    cursor: pointer;\n",
              "    display: none;\n",
              "    fill: var(--fill-color);\n",
              "    height: 32px;\n",
              "    padding: 0;\n",
              "    width: 32px;\n",
              "  }\n",
              "\n",
              "  .colab-df-quickchart:hover {\n",
              "    background-color: var(--hover-bg-color);\n",
              "    box-shadow: 0 1px 2px rgba(60, 64, 67, 0.3), 0 1px 3px 1px rgba(60, 64, 67, 0.15);\n",
              "    fill: var(--button-hover-fill-color);\n",
              "  }\n",
              "\n",
              "  .colab-df-quickchart-complete:disabled,\n",
              "  .colab-df-quickchart-complete:disabled:hover {\n",
              "    background-color: var(--disabled-bg-color);\n",
              "    fill: var(--disabled-fill-color);\n",
              "    box-shadow: none;\n",
              "  }\n",
              "\n",
              "  .colab-df-spinner {\n",
              "    border: 2px solid var(--fill-color);\n",
              "    border-color: transparent;\n",
              "    border-bottom-color: var(--fill-color);\n",
              "    animation:\n",
              "      spin 1s steps(1) infinite;\n",
              "  }\n",
              "\n",
              "  @keyframes spin {\n",
              "    0% {\n",
              "      border-color: transparent;\n",
              "      border-bottom-color: var(--fill-color);\n",
              "      border-left-color: var(--fill-color);\n",
              "    }\n",
              "    20% {\n",
              "      border-color: transparent;\n",
              "      border-left-color: var(--fill-color);\n",
              "      border-top-color: var(--fill-color);\n",
              "    }\n",
              "    30% {\n",
              "      border-color: transparent;\n",
              "      border-left-color: var(--fill-color);\n",
              "      border-top-color: var(--fill-color);\n",
              "      border-right-color: var(--fill-color);\n",
              "    }\n",
              "    40% {\n",
              "      border-color: transparent;\n",
              "      border-right-color: var(--fill-color);\n",
              "      border-top-color: var(--fill-color);\n",
              "    }\n",
              "    60% {\n",
              "      border-color: transparent;\n",
              "      border-right-color: var(--fill-color);\n",
              "    }\n",
              "    80% {\n",
              "      border-color: transparent;\n",
              "      border-right-color: var(--fill-color);\n",
              "      border-bottom-color: var(--fill-color);\n",
              "    }\n",
              "    90% {\n",
              "      border-color: transparent;\n",
              "      border-bottom-color: var(--fill-color);\n",
              "    }\n",
              "  }\n",
              "</style>\n",
              "\n",
              "  <script>\n",
              "    async function quickchart(key) {\n",
              "      const quickchartButtonEl =\n",
              "        document.querySelector('#' + key + ' button');\n",
              "      quickchartButtonEl.disabled = true;  // To prevent multiple clicks.\n",
              "      quickchartButtonEl.classList.add('colab-df-spinner');\n",
              "      try {\n",
              "        const charts = await google.colab.kernel.invokeFunction(\n",
              "            'suggestCharts', [key], {});\n",
              "      } catch (error) {\n",
              "        console.error('Error during call to suggestCharts:', error);\n",
              "      }\n",
              "      quickchartButtonEl.classList.remove('colab-df-spinner');\n",
              "      quickchartButtonEl.classList.add('colab-df-quickchart-complete');\n",
              "    }\n",
              "    (() => {\n",
              "      let quickchartButtonEl =\n",
              "        document.querySelector('#df-83c884ef-1c29-480b-ae80-5d56f4192ae4 button');\n",
              "      quickchartButtonEl.style.display =\n",
              "        google.colab.kernel.accessAllowed ? 'block' : 'none';\n",
              "    })();\n",
              "  </script>\n",
              "</div>\n",
              "\n",
              "    </div>\n",
              "  </div>\n"
            ],
            "application/vnd.google.colaboratory.intrinsic+json": {
              "type": "dataframe",
              "variable_name": "df_eda",
              "summary": "{\n  \"name\": \"df_eda\",\n  \"rows\": 14404,\n  \"fields\": [\n    {\n      \"column\": \"count_words\",\n      \"properties\": {\n        \"dtype\": \"number\",\n        \"std\": 7,\n        \"min\": 2,\n        \"max\": 35,\n        \"num_unique_values\": 34,\n        \"samples\": [\n          3,\n          30,\n          5\n        ],\n        \"semantic_type\": \"\",\n        \"description\": \"\"\n      }\n    },\n    {\n      \"column\": \"count_mentions\",\n      \"properties\": {\n        \"dtype\": \"number\",\n        \"std\": 0,\n        \"min\": 1,\n        \"max\": 6,\n        \"num_unique_values\": 6,\n        \"samples\": [\n          2,\n          1,\n          6\n        ],\n        \"semantic_type\": \"\",\n        \"description\": \"\"\n      }\n    },\n    {\n      \"column\": \"count_hashtags\",\n      \"properties\": {\n        \"dtype\": \"number\",\n        \"std\": 0,\n        \"min\": 0,\n        \"max\": 8,\n        \"num_unique_values\": 9,\n        \"samples\": [\n          6,\n          3,\n          4\n        ],\n        \"semantic_type\": \"\",\n        \"description\": \"\"\n      }\n    },\n    {\n      \"column\": \"count_capital_words\",\n      \"properties\": {\n        \"dtype\": \"number\",\n        \"std\": 1,\n        \"min\": 0,\n        \"max\": 22,\n        \"num_unique_values\": 20,\n        \"samples\": [\n          0,\n          19,\n          12\n        ],\n        \"semantic_type\": \"\",\n        \"description\": \"\"\n      }\n    },\n    {\n      \"column\": \"count_excl_quest_marks\",\n      \"properties\": {\n        \"dtype\": \"number\",\n        \"std\": 1,\n        \"min\": 0,\n        \"max\": 27,\n        \"num_unique_values\": 16,\n        \"samples\": [\n          0,\n          1,\n          4\n        ],\n        \"semantic_type\": \"\",\n        \"description\": \"\"\n      }\n    },\n    {\n      \"column\": \"count_urls\",\n      \"properties\": {\n        \"dtype\": \"number\",\n        \"std\": 0,\n        \"min\": 0,\n        \"max\": 3,\n        \"num_unique_values\": 4,\n        \"samples\": [\n          1,\n          3,\n          0\n        ],\n        \"semantic_type\": \"\",\n        \"description\": \"\"\n      }\n    },\n    {\n      \"column\": \"airline_sentiment\",\n      \"properties\": {\n        \"dtype\": \"category\",\n        \"num_unique_values\": 3,\n        \"samples\": [\n          \"neutral\",\n          \"negative\",\n          \"positive\"\n        ],\n        \"semantic_type\": \"\",\n        \"description\": \"\"\n      }\n    }\n  ]\n}"
            }
          },
          "metadata": {},
          "execution_count": 8
        }
      ],
      "source": [
        "df_eda.head()"
      ]
    },
    {
      "cell_type": "code",
      "execution_count": null,
      "metadata": {
        "id": "NXqu3H6ZQYZB"
      },
      "outputs": [],
      "source": [
        "def show_dist(df, col):\n",
        "    print('Descriptive stats for {}'.format(col))\n",
        "    print('-'*(len(col)+22))\n",
        "    print(df.groupby('airline_sentiment')[col].describe())\n",
        "\n",
        "    # Créer des \"bins\" pour l'histogramme\n",
        "    bins = np.arange(df[col].min(), df[col].max() + 1)\n",
        "\n",
        "    # Utiliser `height` au lieu de `size`\n",
        "    g = sns.FacetGrid(df, col='airline_sentiment', height=5, hue='airline_sentiment', palette=\"PuBuGn_d\")\n",
        "    g = g.map(sns.histplot, col, kde=False, stat='probability', bins=bins)\n",
        "\n",
        "    plt.show()"
      ]
    },
    {
      "cell_type": "code",
      "execution_count": null,
      "metadata": {
        "colab": {
          "base_uri": "https://localhost:8080/",
          "height": 420
        },
        "id": "Jw6GuTBsQrKI",
        "outputId": "167fa001-666e-4505-e73c-a788c5927e15"
      },
      "outputs": [
        {
          "output_type": "stream",
          "name": "stdout",
          "text": [
            "Descriptive stats for count_words\n",
            "---------------------------------\n",
            "                    count       mean       std  min   25%   50%   75%   max\n",
            "airline_sentiment                                                          \n",
            "negative           9115.0  20.409435  6.091811  2.0  17.0  22.0  25.0  35.0\n",
            "neutral            2997.0  15.290624  7.144369  2.0  10.0  15.0  21.0  34.0\n",
            "positive           2292.0  14.430628  7.255154  2.0   8.0  14.0  21.0  33.0\n"
          ]
        },
        {
          "output_type": "display_data",
          "data": {
            "text/plain": [
              "<Figure size 1500x500 with 3 Axes>"
            ],
            "image/png": "[encoded data removed]"
          },
          "metadata": {}
        }
      ],
      "source": [
        "show_dist(df_eda, 'count_words')"
      ]
    },
    {
      "cell_type": "code",
      "execution_count": null,
      "metadata": {
        "colab": {
          "base_uri": "https://localhost:8080/"
        },
        "id": "vRliQ3hkXcbd",
        "outputId": "9407b34b-8266-4377-ff20-69ac09c16b98"
      },
      "outputs": [
        {
          "output_type": "stream",
          "name": "stdout",
          "text": [
            "Collecting langdetect\n",
            "  Downloading langdetect-1.0.9.tar.gz (981 kB)\n",
            "\u001b[2K     \u001b[90m━━━━━━━━━━━━━━━━━━━━━━━━━━━━━━━━━━━━━━━━\u001b[0m \u001b[32m981.5/981.5 kB\u001b[0m \u001b[31m13.3 MB/s\u001b[0m eta \u001b[36m0:00:00\u001b[0m\n",
            "\u001b[?25h  Preparing metadata (setup.py) ... \u001b[?25l\u001b[?25hdone\n",
            "Requirement already satisfied: six in /usr/local/lib/python3.10/dist-packages (from langdetect) (1.16.0)\n",
            "Building wheels for collected packages: langdetect\n",
            "  Building wheel for langdetect (setup.py) ... \u001b[?25l\u001b[?25hdone\n",
            "  Created wheel for langdetect: filename=langdetect-1.0.9-py3-none-any.whl size=993222 sha256=6a9c92d8cd8dfdcde5225d798c7710e9517959b2ff5bee7fc13029de3496d546\n",
            "  Stored in directory: /root/.cache/pip/wheels/95/03/7d/59ea870c70ce4e5a370638b5462a7711ab78fba2f655d05106\n",
            "Successfully built langdetect\n",
            "Installing collected packages: langdetect\n",
            "Successfully installed langdetect-1.0.9\n"
          ]
        }
      ],
      "source": [
        "pip install langdetect"
      ]
    },
    {
      "cell_type": "code",
      "execution_count": null,
      "metadata": {
        "colab": {
          "base_uri": "https://localhost:8080/",
          "height": 671
        },
        "id": "wAv3F3ZLYN5W",
        "outputId": "1c838aad-a1dc-4ac9-ede9-4a3a605f3134"
      },
      "outputs": [
        {
          "output_type": "stream",
          "name": "stderr",
          "text": [
            "<ipython-input-12-bfb87aaf51b4>:8: FutureWarning: \n",
            "\n",
            "Passing `palette` without assigning `hue` is deprecated and will be removed in v0.14.0. Assign the `x` variable to `hue` and set `legend=False` for the same effect.\n",
            "\n",
            "  sns.countplot(data=df, x='language', palette=\"Set2\")\n"
          ]
        },
        {
          "output_type": "display_data",
          "data": {
            "text/plain": [
              "<Figure size 800x600 with 1 Axes>"
            ],
            "image/png": "[encoded data removed]"
          },
          "metadata": {}
        }
      ],
      "source": [
        "from langdetect import detect\n",
        "\n",
        "# Appliquer langdetect pour détecter la langue de chaque tweet\n",
        "df['language'] = df['text'].apply(lambda x: detect(x))\n",
        "\n",
        "# Afficher la distribution des langues\n",
        "plt.figure(figsize=(8, 6))\n",
        "sns.countplot(data=df, x='language', palette=\"Set2\")\n",
        "plt.title('Distribution des langues dans les tweets')\n",
        "plt.xlabel('Langue')\n",
        "plt.ylabel('Nombre de tweets')\n",
        "plt.show()\n"
      ]
    },
    {
      "cell_type": "code",
      "execution_count": null,
      "metadata": {
        "colab": {
          "base_uri": "https://localhost:8080/",
          "height": 422
        },
        "id": "x-6B4XXATuzs",
        "outputId": "1a879157-e3cf-459f-d970-3b16562ca92d"
      },
      "outputs": [
        {
          "output_type": "display_data",
          "data": {
            "text/plain": [
              "<Figure size 1000x500 with 1 Axes>"
            ],
            "image/png": "[encoded data removed]"
          },
          "metadata": {}
        }
      ],
      "source": [
        "from wordcloud import WordCloud\n",
        "import matplotlib.pyplot as plt\n",
        "\n",
        "# Récupérer le texte des tweets (par exemple, la colonne 'text' dans ton DataFrame)\n",
        "text = ' '.join(df['text'].dropna())  # Combine tous les tweets en une seule chaîne\n",
        "\n",
        "# Créer le nuage de mots\n",
        "wordcloud = WordCloud(\n",
        "    width=800,\n",
        "    height=400,\n",
        "    background_color='white',\n",
        "    colormap='Blues',  # Choisir une palette de couleurs\n",
        "    max_words=100,  # Limiter le nombre de mots affichés\n",
        "    stopwords=None  # Optionnel, si tu veux ajouter des mots à ignorer (par exemple des mots vides)\n",
        ").generate(text)\n",
        "\n",
        "# Afficher le nuage de mots\n",
        "plt.figure(figsize=(10, 5))\n",
        "plt.imshow(wordcloud, interpolation='bilinear')\n",
        "plt.axis('off')  # Ne pas afficher les axes\n",
        "plt.show()"
      ]
    },
    {
      "cell_type": "code",
      "source": [
        "pip install emoji"
      ],
      "metadata": {
        "colab": {
          "base_uri": "https://localhost:8080/"
        },
        "id": "0Nxo-y1ASZpE",
        "outputId": "3e98e4ac-ecd9-473a-e044-39a4997a9dd1"
      },
      "execution_count": 88,
      "outputs": [
        {
          "output_type": "stream",
          "name": "stdout",
          "text": [
            "Collecting emoji\n",
            "  Downloading emoji-2.14.0-py3-none-any.whl.metadata (5.7 kB)\n",
            "Downloading emoji-2.14.0-py3-none-any.whl (586 kB)\n",
            "\u001b[?25l   \u001b[90m━━━━━━━━━━━━━━━━━━━━━━━━━━━━━━━━━━━━━━━━\u001b[0m \u001b[32m0.0/586.9 kB\u001b[0m \u001b[31m?\u001b[0m eta \u001b[36m-:--:--\u001b[0m\r\u001b[2K   \u001b[91m━━━━━━━━━━━\u001b[0m\u001b[91m╸\u001b[0m\u001b[90m━━━━━━━━━━━━━━━━━━━━━━━━━━━━\u001b[0m \u001b[32m174.1/586.9 kB\u001b[0m \u001b[31m6.4 MB/s\u001b[0m eta \u001b[36m0:00:01\u001b[0m\r\u001b[2K   \u001b[91m━━━━━━━━━━━━━━━━━━━━━━━━━━━━━━━━━━━━━━━\u001b[0m\u001b[91m╸\u001b[0m \u001b[32m583.7/586.9 kB\u001b[0m \u001b[31m11.2 MB/s\u001b[0m eta \u001b[36m0:00:01\u001b[0m\r\u001b[2K   \u001b[90m━━━━━━━━━━━━━━━━━━━━━━━━━━━━━━━━━━━━━━━━\u001b[0m \u001b[32m586.9/586.9 kB\u001b[0m \u001b[31m7.6 MB/s\u001b[0m eta \u001b[36m0:00:00\u001b[0m\n",
            "\u001b[?25hInstalling collected packages: emoji\n",
            "Successfully installed emoji-2.14.0\n"
          ]
        }
      ]
    },
    {
      "cell_type": "code",
      "execution_count": 110,
      "metadata": {
        "id": "8prhzi3DUX5-"
      },
      "outputs": [],
      "source": [
        "from nltk.stem import WordNetLemmatizer\n",
        "import emoji\n",
        "\n",
        "class CleanText(BaseEstimator, TransformerMixin):\n",
        "    def remove_mentions(self, input_text):\n",
        "        return re.sub(r'@\\w+', '', input_text)\n",
        "\n",
        "    def remove_emoji(self, input_text):\n",
        "        return emoji.replace_emoji(input_text, replace='')\n",
        "\n",
        "    def remove_urls(self, input_text):\n",
        "        return re.sub(r'http.?://[^\\s]+[\\s]?', '', input_text)\n",
        "\n",
        "    def emoji_oneword(self, input_text):\n",
        "        return input_text.replace('_','')\n",
        "\n",
        "    def remove_punctuation(self, input_text):\n",
        "        punct = string.punctuation\n",
        "        trantab = str.maketrans(punct, len(punct)*' ')\n",
        "        return input_text.translate(trantab)\n",
        "\n",
        "    def remove_digits(self, input_text):\n",
        "        return re.sub('\\d+', '', input_text)\n",
        "\n",
        "    def to_lower(self, input_text):\n",
        "        return input_text.lower()\n",
        "\n",
        "    def remove_stopwords(self, input_text):\n",
        "        stopwords_list = stopwords.words('english')\n",
        "        whitelist = [\"n't\", \"not\", \"no\", \"i'm\"]\n",
        "        words = input_text.split()\n",
        "        clean_words = [word for word in words if (word not in stopwords_list or word in whitelist) and len(word) > 1]\n",
        "        return \" \".join(clean_words)\n",
        "\n",
        "    def lemmatization(self, input_text):\n",
        "        lemmatizer = WordNetLemmatizer()\n",
        "        words = input_text.split()\n",
        "        lemmatized_words = [lemmatizer.lemmatize(word) for word in words]\n",
        "        return \" \".join(lemmatized_words)\n",
        "\n",
        "    def fit(self, X, y=None, **fit_params):\n",
        "        return self\n",
        "\n",
        "    def transform(self, X, **transform_params):\n",
        "        clean_X = X.apply(self.remove_mentions).apply(self.remove_emoji).apply(self.remove_urls).apply(self.emoji_oneword).apply(self.remove_punctuation).apply(self.remove_digits).apply(self.to_lower).apply(self.remove_stopwords).apply(self.lemmatization)\n",
        "        return clean_X"
      ]
    },
    {
      "cell_type": "code",
      "execution_count": 111,
      "metadata": {
        "colab": {
          "base_uri": "https://localhost:8080/"
        },
        "id": "emPjnSzpWcaY",
        "outputId": "be307959-fe41-4a32-8139-78689bf8bbcd"
      },
      "outputs": [
        {
          "output_type": "stream",
          "name": "stderr",
          "text": [
            "[nltk_data] Downloading package stopwords to /root/nltk_data...\n",
            "[nltk_data]   Package stopwords is already up-to-date!\n",
            "[nltk_data] Downloading package wordnet to /root/nltk_data...\n",
            "[nltk_data]   Package wordnet is already up-to-date!\n"
          ]
        },
        {
          "output_type": "execute_result",
          "data": {
            "text/plain": [
              "True"
            ]
          },
          "metadata": {},
          "execution_count": 111
        }
      ],
      "source": [
        "import nltk\n",
        "nltk.download('stopwords')\n",
        "nltk.download('wordnet')"
      ]
    },
    {
      "cell_type": "code",
      "execution_count": 112,
      "metadata": {
        "colab": {
          "base_uri": "https://localhost:8080/",
          "height": 241
        },
        "id": "s3QtRYt-Vu6D",
        "outputId": "e903d8bb-91d1-4ce3-d2be-a5ae6c2e5844"
      },
      "outputs": [
        {
          "output_type": "execute_result",
          "data": {
            "text/plain": [
              "6928               listen im not gonna deny rt fleet fleek\n",
              "2624     not reason houston not nyc tonight took plane ...\n",
              "3091                               access dial make faster\n",
              "6045     delay flight bdl mco need get florida amp race...\n",
              "11486    way someone contact agent available need help ...\n",
              "Name: text, dtype: object"
            ],
            "text/html": [
              "<div>\n",
              "<style scoped>\n",
              "    .dataframe tbody tr th:only-of-type {\n",
              "        vertical-align: middle;\n",
              "    }\n",
              "\n",
              "    .dataframe tbody tr th {\n",
              "        vertical-align: top;\n",
              "    }\n",
              "\n",
              "    .dataframe thead th {\n",
              "        text-align: right;\n",
              "    }\n",
              "</style>\n",
              "<table border=\"1\" class=\"dataframe\">\n",
              "  <thead>\n",
              "    <tr style=\"text-align: right;\">\n",
              "      <th></th>\n",
              "      <th>text</th>\n",
              "    </tr>\n",
              "  </thead>\n",
              "  <tbody>\n",
              "    <tr>\n",
              "      <th>6928</th>\n",
              "      <td>listen im not gonna deny rt fleet fleek</td>\n",
              "    </tr>\n",
              "    <tr>\n",
              "      <th>2624</th>\n",
              "      <td>not reason houston not nyc tonight took plane ...</td>\n",
              "    </tr>\n",
              "    <tr>\n",
              "      <th>3091</th>\n",
              "      <td>access dial make faster</td>\n",
              "    </tr>\n",
              "    <tr>\n",
              "      <th>6045</th>\n",
              "      <td>delay flight bdl mco need get florida amp race...</td>\n",
              "    </tr>\n",
              "    <tr>\n",
              "      <th>11486</th>\n",
              "      <td>way someone contact agent available need help ...</td>\n",
              "    </tr>\n",
              "  </tbody>\n",
              "</table>\n",
              "</div><br><label><b>dtype:</b> object</label>"
            ]
          },
          "metadata": {},
          "execution_count": 112
        }
      ],
      "source": [
        "# Créer une instance de la classe CleanText\n",
        "ct = CleanText()\n",
        "sr_clean = ct.fit_transform(df.text)\n",
        "sr_clean.sample(5)"
      ]
    },
    {
      "cell_type": "code",
      "execution_count": 113,
      "metadata": {
        "colab": {
          "base_uri": "https://localhost:8080/"
        },
        "id": "n37yk1UjWjKs",
        "outputId": "545243c1-6a25-4510-b0e5-fb2516288ed7"
      },
      "outputs": [
        {
          "output_type": "stream",
          "name": "stdout",
          "text": [
            "21 records have no words left after text cleaning\n"
          ]
        }
      ],
      "source": [
        "empty_clean = sr_clean == ''\n",
        "print('{} records have no words left after text cleaning'.format(sr_clean[empty_clean].count()))"
      ]
    },
    {
      "cell_type": "code",
      "execution_count": 114,
      "metadata": {
        "id": "JzOnvVdOXIWc"
      },
      "outputs": [],
      "source": [
        "sr_clean = sr_clean[~empty_clean]"
      ]
    },
    {
      "cell_type": "code",
      "execution_count": 115,
      "metadata": {
        "colab": {
          "base_uri": "https://localhost:8080/",
          "height": 827
        },
        "id": "7pEEXH7NXKDc",
        "outputId": "9c2df169-4695-4e85-9bd8-4a5d9d922375"
      },
      "outputs": [
        {
          "output_type": "stream",
          "name": "stderr",
          "text": [
            "<ipython-input-115-32e218882fad>:11: FutureWarning: \n",
            "\n",
            "Passing `palette` without assigning `hue` is deprecated and will be removed in v0.14.0. Assign the `x` variable to `hue` and set `legend=False` for the same effect.\n",
            "\n",
            "  sns.barplot(x=\"word\", y=\"freq\", data=word_counter_df, palette=\"PuBuGn_d\", ax=ax)\n"
          ]
        },
        {
          "output_type": "display_data",
          "data": {
            "text/plain": [
              "<Figure size 1200x1000 with 1 Axes>"
            ],
            "image/png": "[encoded data removed]"
          },
          "metadata": {}
        }
      ],
      "source": [
        "cv = CountVectorizer()\n",
        "bow = cv.fit_transform(sr_clean)\n",
        "\n",
        "# Use get_feature_names_out instead of get_feature_names\n",
        "word_freq = dict(zip(cv.get_feature_names_out(), np.asarray(bow.sum(axis=0)).ravel()))\n",
        "\n",
        "word_counter = collections.Counter(word_freq)\n",
        "word_counter_df = pd.DataFrame(word_counter.most_common(20), columns=['word', 'freq'])\n",
        "\n",
        "fig, ax = plt.subplots(figsize=(12, 10))\n",
        "sns.barplot(x=\"word\", y=\"freq\", data=word_counter_df, palette=\"PuBuGn_d\", ax=ax)\n",
        "plt.show()"
      ]
    },
    {
      "cell_type": "code",
      "execution_count": 116,
      "metadata": {
        "colab": {
          "base_uri": "https://localhost:8080/"
        },
        "id": "_j779vbrcwhL",
        "outputId": "e1c41ec1-7d32-4e0f-d015-446d74bc493a"
      },
      "outputs": [
        {
          "output_type": "stream",
          "name": "stdout",
          "text": [
            "Original Text: @VirginAmerica I didn't today... Must mean I need to take another trip!\n",
            "Cleaned Text: today must mean need take another trip\n"
          ]
        }
      ],
      "source": [
        "# Exemple de texte avant nettoyage\n",
        "original_text = df['text'].iloc[1]\n",
        "print(\"Original Text:\", original_text)\n",
        "\n",
        "# Exemple de texte après nettoyage (après suppression des stopwords)\n",
        "cleaned_text = sr_clean.iloc[1]\n",
        "print(\"Cleaned Text:\", cleaned_text)"
      ]
    },
    {
      "cell_type": "code",
      "execution_count": 117,
      "metadata": {
        "colab": {
          "base_uri": "https://localhost:8080/"
        },
        "id": "HcbZZLjyeDQB",
        "outputId": "4f9aa658-1a1e-4722-a717-fe1c3306d35c"
      },
      "outputs": [
        {
          "output_type": "execute_result",
          "data": {
            "text/plain": [
              "['text', 'airline_sentiment', 'language', 'clean_text']"
            ]
          },
          "metadata": {},
          "execution_count": 117
        }
      ],
      "source": [
        "df_model = df\n",
        "df_model['clean_text'] = sr_clean\n",
        "df_model.columns.tolist()"
      ]
    },
    {
      "cell_type": "code",
      "source": [
        "df_model[df_model.duplicated()]"
      ],
      "metadata": {
        "colab": {
          "base_uri": "https://localhost:8080/",
          "height": 510
        },
        "id": "oNwXnIUeZfph",
        "outputId": "b9857a90-5c5c-4410-e05a-b029ce948111"
      },
      "execution_count": 118,
      "outputs": [
        {
          "output_type": "execute_result",
          "data": {
            "text/plain": [
              "                                                    text airline_sentiment  \\\n",
              "331                               @VirginAmerica Thanks!          positive   \n",
              "515                                       @united thanks          positive   \n",
              "1477                                  @united thank you!          positive   \n",
              "1938                                   @united thank you          positive   \n",
              "1969                                  @united thank you!          positive   \n",
              "...                                                  ...               ...   \n",
              "13995  @AmericanAir  800 number will not even let you...          negative   \n",
              "14386  @AmericanAir I want to speak to a human being!...          negative   \n",
              "14392  @AmericanAir no response to DM or email yet.  ...          negative   \n",
              "14543  @AmericanAir should reconsider #usairways acqu...          negative   \n",
              "14556       @AmericanAir Thank you.....you do the same!!          positive   \n",
              "\n",
              "      language                                         clean_text  \n",
              "331         en                                             thanks  \n",
              "515         en                                             thanks  \n",
              "1477        en                                              thank  \n",
              "1938        en                                              thank  \n",
              "1969        en                                              thank  \n",
              "...        ...                                                ...  \n",
              "13995       en  number not even let wait next customer rep fru...  \n",
              "14386       en               want speak human not obscene request  \n",
              "14392       en          no response dm email yet customer service  \n",
              "14543       en  reconsider usairways acquisition flight aa gol...  \n",
              "14556       en                                              thank  \n",
              "\n",
              "[182 rows x 4 columns]"
            ],
            "text/html": [
              "\n",
              "  <div id=\"df-fe0dc989-19b1-4c14-946a-7a2dfbfef7cf\" class=\"colab-df-container\">\n",
              "    <div>\n",
              "<style scoped>\n",
              "    .dataframe tbody tr th:only-of-type {\n",
              "        vertical-align: middle;\n",
              "    }\n",
              "\n",
              "    .dataframe tbody tr th {\n",
              "        vertical-align: top;\n",
              "    }\n",
              "\n",
              "    .dataframe thead th {\n",
              "        text-align: right;\n",
              "    }\n",
              "</style>\n",
              "<table border=\"1\" class=\"dataframe\">\n",
              "  <thead>\n",
              "    <tr style=\"text-align: right;\">\n",
              "      <th></th>\n",
              "      <th>text</th>\n",
              "      <th>airline_sentiment</th>\n",
              "      <th>language</th>\n",
              "      <th>clean_text</th>\n",
              "    </tr>\n",
              "  </thead>\n",
              "  <tbody>\n",
              "    <tr>\n",
              "      <th>331</th>\n",
              "      <td>@VirginAmerica Thanks!</td>\n",
              "      <td>positive</td>\n",
              "      <td>en</td>\n",
              "      <td>thanks</td>\n",
              "    </tr>\n",
              "    <tr>\n",
              "      <th>515</th>\n",
              "      <td>@united thanks</td>\n",
              "      <td>positive</td>\n",
              "      <td>en</td>\n",
              "      <td>thanks</td>\n",
              "    </tr>\n",
              "    <tr>\n",
              "      <th>1477</th>\n",
              "      <td>@united thank you!</td>\n",
              "      <td>positive</td>\n",
              "      <td>en</td>\n",
              "      <td>thank</td>\n",
              "    </tr>\n",
              "    <tr>\n",
              "      <th>1938</th>\n",
              "      <td>@united thank you</td>\n",
              "      <td>positive</td>\n",
              "      <td>en</td>\n",
              "      <td>thank</td>\n",
              "    </tr>\n",
              "    <tr>\n",
              "      <th>1969</th>\n",
              "      <td>@united thank you!</td>\n",
              "      <td>positive</td>\n",
              "      <td>en</td>\n",
              "      <td>thank</td>\n",
              "    </tr>\n",
              "    <tr>\n",
              "      <th>...</th>\n",
              "      <td>...</td>\n",
              "      <td>...</td>\n",
              "      <td>...</td>\n",
              "      <td>...</td>\n",
              "    </tr>\n",
              "    <tr>\n",
              "      <th>13995</th>\n",
              "      <td>@AmericanAir  800 number will not even let you...</td>\n",
              "      <td>negative</td>\n",
              "      <td>en</td>\n",
              "      <td>number not even let wait next customer rep fru...</td>\n",
              "    </tr>\n",
              "    <tr>\n",
              "      <th>14386</th>\n",
              "      <td>@AmericanAir I want to speak to a human being!...</td>\n",
              "      <td>negative</td>\n",
              "      <td>en</td>\n",
              "      <td>want speak human not obscene request</td>\n",
              "    </tr>\n",
              "    <tr>\n",
              "      <th>14392</th>\n",
              "      <td>@AmericanAir no response to DM or email yet.  ...</td>\n",
              "      <td>negative</td>\n",
              "      <td>en</td>\n",
              "      <td>no response dm email yet customer service</td>\n",
              "    </tr>\n",
              "    <tr>\n",
              "      <th>14543</th>\n",
              "      <td>@AmericanAir should reconsider #usairways acqu...</td>\n",
              "      <td>negative</td>\n",
              "      <td>en</td>\n",
              "      <td>reconsider usairways acquisition flight aa gol...</td>\n",
              "    </tr>\n",
              "    <tr>\n",
              "      <th>14556</th>\n",
              "      <td>@AmericanAir Thank you.....you do the same!!</td>\n",
              "      <td>positive</td>\n",
              "      <td>en</td>\n",
              "      <td>thank</td>\n",
              "    </tr>\n",
              "  </tbody>\n",
              "</table>\n",
              "<p>182 rows × 4 columns</p>\n",
              "</div>\n",
              "    <div class=\"colab-df-buttons\">\n",
              "\n",
              "  <div class=\"colab-df-container\">\n",
              "    <button class=\"colab-df-convert\" onclick=\"convertToInteractive('df-fe0dc989-19b1-4c14-946a-7a2dfbfef7cf')\"\n",
              "            title=\"Convert this dataframe to an interactive table.\"\n",
              "            style=\"display:none;\">\n",
              "\n",
              "  <svg xmlns=\"http://www.w3.org/2000/svg\" height=\"24px\" viewBox=\"0 -960 960 960\">\n",
              "    <path d=\"M120-120v-720h720v720H120Zm60-500h600v-160H180v160Zm220 220h160v-160H400v160Zm0 220h160v-160H400v160ZM180-400h160v-160H180v160Zm440 0h160v-160H620v160ZM180-180h160v-160H180v160Zm440 0h160v-160H620v160Z\"/>\n",
              "  </svg>\n",
              "    </button>\n",
              "\n",
              "  <style>\n",
              "    .colab-df-container {\n",
              "      display:flex;\n",
              "      gap: 12px;\n",
              "    }\n",
              "\n",
              "    .colab-df-convert {\n",
              "      background-color: #E8F0FE;\n",
              "      border: none;\n",
              "      border-radius: 50%;\n",
              "      cursor: pointer;\n",
              "      display: none;\n",
              "      fill: #1967D2;\n",
              "      height: 32px;\n",
              "      padding: 0 0 0 0;\n",
              "      width: 32px;\n",
              "    }\n",
              "\n",
              "    .colab-df-convert:hover {\n",
              "      background-color: #E2EBFA;\n",
              "      box-shadow: 0px 1px 2px rgba(60, 64, 67, 0.3), 0px 1px 3px 1px rgba(60, 64, 67, 0.15);\n",
              "      fill: #174EA6;\n",
              "    }\n",
              "\n",
              "    .colab-df-buttons div {\n",
              "      margin-bottom: 4px;\n",
              "    }\n",
              "\n",
              "    [theme=dark] .colab-df-convert {\n",
              "      background-color: #3B4455;\n",
              "      fill: #D2E3FC;\n",
              "    }\n",
              "\n",
              "    [theme=dark] .colab-df-convert:hover {\n",
              "      background-color: #434B5C;\n",
              "      box-shadow: 0px 1px 3px 1px rgba(0, 0, 0, 0.15);\n",
              "      filter: drop-shadow(0px 1px 2px rgba(0, 0, 0, 0.3));\n",
              "      fill: #FFFFFF;\n",
              "    }\n",
              "  </style>\n",
              "\n",
              "    <script>\n",
              "      const buttonEl =\n",
              "        document.querySelector('#df-fe0dc989-19b1-4c14-946a-7a2dfbfef7cf button.colab-df-convert');\n",
              "      buttonEl.style.display =\n",
              "        google.colab.kernel.accessAllowed ? 'block' : 'none';\n",
              "\n",
              "      async function convertToInteractive(key) {\n",
              "        const element = document.querySelector('#df-fe0dc989-19b1-4c14-946a-7a2dfbfef7cf');\n",
              "        const dataTable =\n",
              "          await google.colab.kernel.invokeFunction('convertToInteractive',\n",
              "                                                    [key], {});\n",
              "        if (!dataTable) return;\n",
              "\n",
              "        const docLinkHtml = 'Like what you see? Visit the ' +\n",
              "          '<a target=\"_blank\" href=https://colab.research.google.com/notebooks/data_table.ipynb>data table notebook</a>'\n",
              "          + ' to learn more about interactive tables.';\n",
              "        element.innerHTML = '';\n",
              "        dataTable['output_type'] = 'display_data';\n",
              "        await google.colab.output.renderOutput(dataTable, element);\n",
              "        const docLink = document.createElement('div');\n",
              "        docLink.innerHTML = docLinkHtml;\n",
              "        element.appendChild(docLink);\n",
              "      }\n",
              "    </script>\n",
              "  </div>\n",
              "\n",
              "\n",
              "<div id=\"df-9ab661f3-f205-4e2b-8bbb-7bff9a0a6302\">\n",
              "  <button class=\"colab-df-quickchart\" onclick=\"quickchart('df-9ab661f3-f205-4e2b-8bbb-7bff9a0a6302')\"\n",
              "            title=\"Suggest charts\"\n",
              "            style=\"display:none;\">\n",
              "\n",
              "<svg xmlns=\"http://www.w3.org/2000/svg\" height=\"24px\"viewBox=\"0 0 24 24\"\n",
              "     width=\"24px\">\n",
              "    <g>\n",
              "        <path d=\"M19 3H5c-1.1 0-2 .9-2 2v14c0 1.1.9 2 2 2h14c1.1 0 2-.9 2-2V5c0-1.1-.9-2-2-2zM9 17H7v-7h2v7zm4 0h-2V7h2v10zm4 0h-2v-4h2v4z\"/>\n",
              "    </g>\n",
              "</svg>\n",
              "  </button>\n",
              "\n",
              "<style>\n",
              "  .colab-df-quickchart {\n",
              "      --bg-color: #E8F0FE;\n",
              "      --fill-color: #1967D2;\n",
              "      --hover-bg-color: #E2EBFA;\n",
              "      --hover-fill-color: #174EA6;\n",
              "      --disabled-fill-color: #AAA;\n",
              "      --disabled-bg-color: #DDD;\n",
              "  }\n",
              "\n",
              "  [theme=dark] .colab-df-quickchart {\n",
              "      --bg-color: #3B4455;\n",
              "      --fill-color: #D2E3FC;\n",
              "      --hover-bg-color: #434B5C;\n",
              "      --hover-fill-color: #FFFFFF;\n",
              "      --disabled-bg-color: #3B4455;\n",
              "      --disabled-fill-color: #666;\n",
              "  }\n",
              "\n",
              "  .colab-df-quickchart {\n",
              "    background-color: var(--bg-color);\n",
              "    border: none;\n",
              "    border-radius: 50%;\n",
              "    cursor: pointer;\n",
              "    display: none;\n",
              "    fill: var(--fill-color);\n",
              "    height: 32px;\n",
              "    padding: 0;\n",
              "    width: 32px;\n",
              "  }\n",
              "\n",
              "  .colab-df-quickchart:hover {\n",
              "    background-color: var(--hover-bg-color);\n",
              "    box-shadow: 0 1px 2px rgba(60, 64, 67, 0.3), 0 1px 3px 1px rgba(60, 64, 67, 0.15);\n",
              "    fill: var(--button-hover-fill-color);\n",
              "  }\n",
              "\n",
              "  .colab-df-quickchart-complete:disabled,\n",
              "  .colab-df-quickchart-complete:disabled:hover {\n",
              "    background-color: var(--disabled-bg-color);\n",
              "    fill: var(--disabled-fill-color);\n",
              "    box-shadow: none;\n",
              "  }\n",
              "\n",
              "  .colab-df-spinner {\n",
              "    border: 2px solid var(--fill-color);\n",
              "    border-color: transparent;\n",
              "    border-bottom-color: var(--fill-color);\n",
              "    animation:\n",
              "      spin 1s steps(1) infinite;\n",
              "  }\n",
              "\n",
              "  @keyframes spin {\n",
              "    0% {\n",
              "      border-color: transparent;\n",
              "      border-bottom-color: var(--fill-color);\n",
              "      border-left-color: var(--fill-color);\n",
              "    }\n",
              "    20% {\n",
              "      border-color: transparent;\n",
              "      border-left-color: var(--fill-color);\n",
              "      border-top-color: var(--fill-color);\n",
              "    }\n",
              "    30% {\n",
              "      border-color: transparent;\n",
              "      border-left-color: var(--fill-color);\n",
              "      border-top-color: var(--fill-color);\n",
              "      border-right-color: var(--fill-color);\n",
              "    }\n",
              "    40% {\n",
              "      border-color: transparent;\n",
              "      border-right-color: var(--fill-color);\n",
              "      border-top-color: var(--fill-color);\n",
              "    }\n",
              "    60% {\n",
              "      border-color: transparent;\n",
              "      border-right-color: var(--fill-color);\n",
              "    }\n",
              "    80% {\n",
              "      border-color: transparent;\n",
              "      border-right-color: var(--fill-color);\n",
              "      border-bottom-color: var(--fill-color);\n",
              "    }\n",
              "    90% {\n",
              "      border-color: transparent;\n",
              "      border-bottom-color: var(--fill-color);\n",
              "    }\n",
              "  }\n",
              "</style>\n",
              "\n",
              "  <script>\n",
              "    async function quickchart(key) {\n",
              "      const quickchartButtonEl =\n",
              "        document.querySelector('#' + key + ' button');\n",
              "      quickchartButtonEl.disabled = true;  // To prevent multiple clicks.\n",
              "      quickchartButtonEl.classList.add('colab-df-spinner');\n",
              "      try {\n",
              "        const charts = await google.colab.kernel.invokeFunction(\n",
              "            'suggestCharts', [key], {});\n",
              "      } catch (error) {\n",
              "        console.error('Error during call to suggestCharts:', error);\n",
              "      }\n",
              "      quickchartButtonEl.classList.remove('colab-df-spinner');\n",
              "      quickchartButtonEl.classList.add('colab-df-quickchart-complete');\n",
              "    }\n",
              "    (() => {\n",
              "      let quickchartButtonEl =\n",
              "        document.querySelector('#df-9ab661f3-f205-4e2b-8bbb-7bff9a0a6302 button');\n",
              "      quickchartButtonEl.style.display =\n",
              "        google.colab.kernel.accessAllowed ? 'block' : 'none';\n",
              "    })();\n",
              "  </script>\n",
              "</div>\n",
              "\n",
              "    </div>\n",
              "  </div>\n"
            ],
            "application/vnd.google.colaboratory.intrinsic+json": {
              "type": "dataframe",
              "summary": "{\n  \"name\": \"df_model[df_model\",\n  \"rows\": 182,\n  \"fields\": [\n    {\n      \"column\": \"text\",\n      \"properties\": {\n        \"dtype\": \"string\",\n        \"num_unique_values\": 161,\n        \"samples\": [\n          \"@AmericanAir flight 1181 out of Vegas to DFW. Cancelled Flightled Sunday and Monday, no whammie today!\",\n          \"@AmericanAir my flight 386 from Jacksonville fl to Dallas is showing Cancelled Flightled. What is going on?  Am I rebooked on another flight?\",\n          \"@AmericanAir It is now going to be reported to the police due to the sexual assult sad that you didn't care\"\n        ],\n        \"semantic_type\": \"\",\n        \"description\": \"\"\n      }\n    },\n    {\n      \"column\": \"airline_sentiment\",\n      \"properties\": {\n        \"dtype\": \"category\",\n        \"num_unique_values\": 3,\n        \"samples\": [\n          \"positive\",\n          \"neutral\",\n          \"negative\"\n        ],\n        \"semantic_type\": \"\",\n        \"description\": \"\"\n      }\n    },\n    {\n      \"column\": \"language\",\n      \"properties\": {\n        \"dtype\": \"category\",\n        \"num_unique_values\": 2,\n        \"samples\": [\n          \"it\",\n          \"en\"\n        ],\n        \"semantic_type\": \"\",\n        \"description\": \"\"\n      }\n    },\n    {\n      \"column\": \"clean_text\",\n      \"properties\": {\n        \"dtype\": \"string\",\n        \"num_unique_values\": 138,\n        \"samples\": [\n          \"flight jacksonville fl dallas showing cancelled flightled going rebooked another flight\",\n          \"delayed bag friend lisa pafe got bag day costa rica issue no update system\"\n        ],\n        \"semantic_type\": \"\",\n        \"description\": \"\"\n      }\n    }\n  ]\n}"
            }
          },
          "metadata": {},
          "execution_count": 118
        }
      ]
    },
    {
      "cell_type": "code",
      "source": [
        "df_model = df_model.drop_duplicates()"
      ],
      "metadata": {
        "id": "AvsUY9RWaFLA"
      },
      "execution_count": 119,
      "outputs": []
    },
    {
      "cell_type": "code",
      "source": [
        "df_model.isnull().sum()"
      ],
      "metadata": {
        "colab": {
          "base_uri": "https://localhost:8080/",
          "height": 209
        },
        "id": "hE2Dqb6VR0qj",
        "outputId": "aec0340b-4789-43c6-f6fd-4bcbc6a9df4e"
      },
      "execution_count": 120,
      "outputs": [
        {
          "output_type": "execute_result",
          "data": {
            "text/plain": [
              "text                  0\n",
              "airline_sentiment     0\n",
              "language              0\n",
              "clean_text           21\n",
              "dtype: int64"
            ],
            "text/html": [
              "<div>\n",
              "<style scoped>\n",
              "    .dataframe tbody tr th:only-of-type {\n",
              "        vertical-align: middle;\n",
              "    }\n",
              "\n",
              "    .dataframe tbody tr th {\n",
              "        vertical-align: top;\n",
              "    }\n",
              "\n",
              "    .dataframe thead th {\n",
              "        text-align: right;\n",
              "    }\n",
              "</style>\n",
              "<table border=\"1\" class=\"dataframe\">\n",
              "  <thead>\n",
              "    <tr style=\"text-align: right;\">\n",
              "      <th></th>\n",
              "      <th>0</th>\n",
              "    </tr>\n",
              "  </thead>\n",
              "  <tbody>\n",
              "    <tr>\n",
              "      <th>text</th>\n",
              "      <td>0</td>\n",
              "    </tr>\n",
              "    <tr>\n",
              "      <th>airline_sentiment</th>\n",
              "      <td>0</td>\n",
              "    </tr>\n",
              "    <tr>\n",
              "      <th>language</th>\n",
              "      <td>0</td>\n",
              "    </tr>\n",
              "    <tr>\n",
              "      <th>clean_text</th>\n",
              "      <td>21</td>\n",
              "    </tr>\n",
              "  </tbody>\n",
              "</table>\n",
              "</div><br><label><b>dtype:</b> int64</label>"
            ]
          },
          "metadata": {},
          "execution_count": 120
        }
      ]
    },
    {
      "cell_type": "code",
      "source": [
        "# Supprimer les lignes où 'clean_text' contient des valeurs nulles\n",
        "df_model = df_model[df_model['clean_text'].notna()]\n",
        "\n",
        "# Vérifier à nouveau les valeurs nulles\n",
        "print(df_model.isnull().sum())"
      ],
      "metadata": {
        "colab": {
          "base_uri": "https://localhost:8080/"
        },
        "id": "ui-IBPlcazX8",
        "outputId": "2f379e43-efc9-4681-ca7e-598612bf2973"
      },
      "execution_count": 121,
      "outputs": [
        {
          "output_type": "stream",
          "name": "stdout",
          "text": [
            "text                 0\n",
            "airline_sentiment    0\n",
            "language             0\n",
            "clean_text           0\n",
            "dtype: int64\n"
          ]
        }
      ]
    },
    {
      "cell_type": "code",
      "source": [
        "df_model.shape"
      ],
      "metadata": {
        "id": "ZnwQ44ge4rcS",
        "colab": {
          "base_uri": "https://localhost:8080/"
        },
        "outputId": "4a067e32-12b0-4598-eee6-5fae3a534066"
      },
      "execution_count": 122,
      "outputs": [
        {
          "output_type": "execute_result",
          "data": {
            "text/plain": [
              "(14201, 4)"
            ]
          },
          "metadata": {},
          "execution_count": 122
        }
      ]
    },
    {
      "cell_type": "code",
      "execution_count": 123,
      "metadata": {
        "colab": {
          "base_uri": "https://localhost:8080/"
        },
        "id": "5Wc-d2WXe-UQ",
        "outputId": "c795588e-9be9-441e-b160-043c12a76167"
      },
      "outputs": [
        {
          "output_type": "execute_result",
          "data": {
            "text/plain": [
              "['airline_sentiment', 'clean_text']"
            ]
          },
          "metadata": {},
          "execution_count": 123
        }
      ],
      "source": [
        "# Conserver uniquement les colonnes nécessaires\n",
        "colonnes = ['airline_sentiment', 'clean_text']\n",
        "df_model = df[colonnes]\n",
        "df_model.columns.tolist()"
      ]
    },
    {
      "cell_type": "markdown",
      "source": [
        "**Encodage des données**"
      ],
      "metadata": {
        "id": "WrgKNzEXz2Pb"
      }
    },
    {
      "cell_type": "code",
      "execution_count": 125,
      "metadata": {
        "id": "RpCLQfOvZrok"
      },
      "outputs": [],
      "source": [
        "y=df_model[\"airline_sentiment\"]"
      ]
    },
    {
      "cell_type": "code",
      "execution_count": 126,
      "metadata": {
        "id": "n1LQ48Br0AsW"
      },
      "outputs": [],
      "source": [
        "sentiment_ordering= ['negative','positive','neutral']\n",
        "y= y.apply(lambda x: sentiment_ordering.index(x))"
      ]
    },
    {
      "cell_type": "markdown",
      "source": [
        "**Vectorisation des données**"
      ],
      "metadata": {
        "id": "UGongR6H0Z77"
      }
    },
    {
      "cell_type": "markdown",
      "source": [
        "1.   Avec **CountVectorizer (Sac de mots BoW)**"
      ],
      "metadata": {
        "id": "lO5uq9g902SS"
      }
    },
    {
      "cell_type": "code",
      "execution_count": 152,
      "metadata": {
        "colab": {
          "base_uri": "https://localhost:8080/"
        },
        "id": "iOtQnlt6THnn",
        "outputId": "31e1d123-c274-429c-db4c-4eb6085128e6"
      },
      "outputs": [
        {
          "output_type": "stream",
          "name": "stderr",
          "text": [
            "<ipython-input-152-543f2b3d836b>:4: SettingWithCopyWarning: \n",
            "A value is trying to be set on a copy of a slice from a DataFrame.\n",
            "Try using .loc[row_indexer,col_indexer] = value instead\n",
            "\n",
            "See the caveats in the documentation: https://pandas.pydata.org/pandas-docs/stable/user_guide/indexing.html#returning-a-view-versus-a-copy\n",
            "  df_model['clean_text'] = df_model['clean_text'].fillna('')\n"
          ]
        },
        {
          "output_type": "stream",
          "name": "stdout",
          "text": [
            "(14404, 3000)\n"
          ]
        }
      ],
      "source": [
        "from sklearn.feature_extraction.text import CountVectorizer\n",
        "\n",
        "# Remplacer les NaN par une chaîne vide\n",
        "df_model['clean_text'] = df_model['clean_text'].fillna('')\n",
        "\n",
        "# Appliquer la vectorisation\n",
        "cv = CountVectorizer(max_features=3000)\n",
        "X_fin = cv.fit_transform(df_model['clean_text']).toarray()\n",
        "\n",
        "# Afficher la forme de la matrice\n",
        "print(X_fin.shape)"
      ]
    },
    {
      "cell_type": "markdown",
      "source": [
        "**Division d'ensemble de données**"
      ],
      "metadata": {
        "id": "LHV-cTTg1ITM"
      }
    },
    {
      "cell_type": "code",
      "execution_count": 128,
      "metadata": {
        "id": "YEHQ9yWFRg07"
      },
      "outputs": [],
      "source": [
        "X_train, X_test, y_train, y_test = train_test_split(X_fin,y,test_size=0.2)"
      ]
    },
    {
      "cell_type": "markdown",
      "source": [
        "**Application des modeles ML**"
      ],
      "metadata": {
        "id": "rrrrWnVo1ts9"
      }
    },
    {
      "cell_type": "code",
      "execution_count": 129,
      "metadata": {
        "colab": {
          "base_uri": "https://localhost:8080/"
        },
        "id": "NjUrb5Dmej2W",
        "outputId": "1f87ebb7-8166-4a31-8dc6-27ef2cbc25c1"
      },
      "outputs": [
        {
          "output_type": "stream",
          "name": "stdout",
          "text": [
            "Test accuracy: 0.7743838944810829\n",
            "              precision    recall  f1-score   support\n",
            "\n",
            "           0       0.82      0.91      0.86      1832\n",
            "           1       0.70      0.66      0.68       456\n",
            "           2       0.62      0.45      0.52       593\n",
            "\n",
            "    accuracy                           0.77      2881\n",
            "   macro avg       0.71      0.67      0.69      2881\n",
            "weighted avg       0.76      0.77      0.76      2881\n",
            "\n"
          ]
        }
      ],
      "source": [
        "from sklearn.ensemble import RandomForestClassifier\n",
        "\n",
        "# Initialisation du modèle RandomForest\n",
        "model1 = RandomForestClassifier(random_state=42)\n",
        "# Entraînement du modèle\n",
        "model1.fit(X_train, y_train)\n",
        "# Prédictions sur les données de test\n",
        "y_pred1 = model1.predict(X_test)\n",
        "# Calcul de l'accuracy\n",
        "accuracy_rf = accuracy_score(y_test, y_pred1)\n",
        "print(\"Test accuracy:\", accuracy_rf)\n",
        "cf_rf=classification_report(y_test,y_pred1)\n",
        "print(cf_rf)"
      ]
    },
    {
      "cell_type": "code",
      "execution_count": 130,
      "metadata": {
        "colab": {
          "base_uri": "https://localhost:8080/"
        },
        "id": "iFfwhbC9Rkne",
        "outputId": "09811b4f-c84d-44cc-f068-bfecff80fa43"
      },
      "outputs": [
        {
          "output_type": "stream",
          "name": "stdout",
          "text": [
            "Test Accuracy: 0.7827143353002429\n",
            "              precision    recall  f1-score   support\n",
            "\n",
            "           0       0.84      0.89      0.86      1832\n",
            "           1       0.72      0.74      0.73       456\n",
            "           2       0.62      0.49      0.55       593\n",
            "\n",
            "    accuracy                           0.78      2881\n",
            "   macro avg       0.73      0.71      0.71      2881\n",
            "weighted avg       0.77      0.78      0.78      2881\n",
            "\n",
            "Accuracy of loaded model: 0.7827143353002429\n"
          ]
        }
      ],
      "source": [
        "from sklearn.naive_bayes import MultinomialNB\n",
        "from sklearn.metrics import accuracy_score, classification_report\n",
        "import joblib\n",
        "\n",
        "# Initialiser et entraîner le modèle Naive Bayes\n",
        "model2 = MultinomialNB()\n",
        "model2.fit(X_train, y_train)\n",
        "\n",
        "# Faire des prédictions\n",
        "y_pred2 = model2.predict(X_test)\n",
        "\n",
        "# Calculer l'accuracy\n",
        "accuracy_NB = accuracy_score(y_test, y_pred2)\n",
        "print(\"Test Accuracy:\", accuracy_NB)\n",
        "\n",
        "# Afficher le rapport de classification\n",
        "cf_NB = classification_report(y_test, y_pred2)\n",
        "print(cf_NB)"
      ]
    },
    {
      "cell_type": "code",
      "execution_count": 162,
      "metadata": {
        "colab": {
          "base_uri": "https://localhost:8080/",
          "height": 1000
        },
        "id": "Gxn3j4zwb-Dl",
        "outputId": "19034283-f0e7-4ba7-ceb4-4fb67c107206"
      },
      "outputs": [
        {
          "output_type": "stream",
          "name": "stderr",
          "text": [
            "/usr/local/lib/python3.10/dist-packages/sklearn/linear_model/_logistic.py:1256: FutureWarning: 'multi_class' was deprecated in version 1.5 and will be removed in 1.7. Use OneVsRestClassifier(LogisticRegression(..)) instead. Leave it to its default value to avoid this warning.\n",
            "  warnings.warn(\n"
          ]
        },
        {
          "output_type": "stream",
          "name": "stdout",
          "text": [
            "Test Accuracy: 0.801457827143353\n",
            "F1-score: 0.7979197260279967\n",
            "              precision    recall  f1-score   support\n",
            "\n",
            "           0       0.85      0.90      0.88      1866\n",
            "           1       0.79      0.68      0.73       463\n",
            "           2       0.61      0.57      0.59       552\n",
            "\n",
            "    accuracy                           0.80      2881\n",
            "   macro avg       0.75      0.72      0.73      2881\n",
            "weighted avg       0.80      0.80      0.80      2881\n",
            "\n",
            "Matrice de confusion :\n",
            "[[1681   42  143]\n",
            " [  89  316   58]\n",
            " [ 197   43  312]]\n"
          ]
        },
        {
          "output_type": "display_data",
          "data": {
            "text/plain": [
              "<Figure size 800x600 with 2 Axes>"
            ],
            "image/png": "[encoded data removed]"
          },
          "metadata": {}
        },
        {
          "output_type": "display_data",
          "data": {
            "text/plain": [
              "<Figure size 800x600 with 1 Axes>"
            ],
            "image/png": "[encoded data removed]"
          },
          "metadata": {}
        }
      ],
      "source": [
        "# Initialiser et entraîner le modèle Logistic Regression\n",
        "model3 = LogisticRegression(random_state=42, max_iter=1000, multi_class='ovr')\n",
        "model3.fit(X_train, y_train)\n",
        "\n",
        "# Faire des prédictions\n",
        "y_pred3 = model3.predict(X_test)\n",
        "\n",
        "# Calculer l'accuracy\n",
        "accuracy_LR = accuracy_score(y_test, y_pred3)\n",
        "print(\"Test Accuracy:\", accuracy_LR)\n",
        "\n",
        "# Calculer le F1-score\n",
        "f1_LR = f1_score(y_test, y_pred3, average='weighted')  # Utiliser average='weighted' pour les classes déséquilibrées\n",
        "print(\"F1-score:\", f1_LR)\n",
        "\n",
        "# Afficher le rapport de classification\n",
        "cf_LR = classification_report(y_test, y_pred3)\n",
        "print(cf_LR)\n",
        "\n",
        "# Calculer et afficher la matrice de confusion\n",
        "conf_matrix = confusion_matrix(y_test, y_pred3)\n",
        "print(\"Matrice de confusion :\")\n",
        "print(conf_matrix)\n",
        "\n",
        "# Utiliser seaborn pour afficher la matrice de confusion sous forme de heatmap\n",
        "plt.figure(figsize=(8, 6))\n",
        "sns.heatmap(conf_matrix, annot=True, fmt='g', cmap='Blues', xticklabels=np.unique(y_test), yticklabels=np.unique(y_test))\n",
        "plt.title('Matrice de confusion')\n",
        "plt.xlabel('Prédictions')\n",
        "plt.ylabel('Vérités')\n",
        "plt.show()\n",
        "\n",
        "# Binariser les labels pour la courbe ROC (One-vs-Rest)\n",
        "y_test_bin = label_binarize(y_test, classes=np.unique(y_test))\n",
        "y_prob3 = model3.predict_proba(X_test)\n",
        "\n",
        "# Calculer la courbe ROC et AUC pour chaque classe\n",
        "n_classes = y_test_bin.shape[1]\n",
        "fpr = dict()\n",
        "tpr = dict()\n",
        "roc_auc = dict()\n",
        "\n",
        "for i in range(n_classes):\n",
        "    fpr[i], tpr[i], _ = roc_curve(y_test_bin[:, i], y_prob3[:, i])\n",
        "    roc_auc[i] = auc(fpr[i], tpr[i])\n",
        "\n",
        "# Afficher la courbe ROC pour chaque classe\n",
        "plt.figure(figsize=(8, 6))\n",
        "colors = ['aqua', 'darkorange', 'cornflowerblue']  # Ajouter plus de couleurs si vous avez plus de classes\n",
        "for i in range(n_classes):\n",
        "    plt.plot(fpr[i], tpr[i], color=colors[i % len(colors)], lw=2, label=f'ROC curve (class {i}, AUC = {roc_auc[i]:.2f})')\n",
        "\n",
        "# Courbe de base\n",
        "plt.plot([0, 1], [0, 1], color='navy', lw=2, linestyle='--')\n",
        "\n",
        "plt.xlim([0.0, 1.0])\n",
        "plt.ylim([0.0, 1.05])\n",
        "plt.xlabel('False Positive Rate')\n",
        "plt.ylabel('True Positive Rate')\n",
        "plt.title('Caractéristique de fonctionnement du récepteur (multiclasse)')\n",
        "\n",
        "plt.legend(loc='lower right')\n",
        "\n",
        "plt.show()"
      ]
    },
    {
      "cell_type": "code",
      "execution_count": 132,
      "metadata": {
        "id": "eXu29ISFk9GE",
        "colab": {
          "base_uri": "https://localhost:8080/"
        },
        "outputId": "ea4cf109-c749-4a74-fb2f-7dff10974743"
      },
      "outputs": [
        {
          "output_type": "stream",
          "name": "stdout",
          "text": [
            "Accuracy of SVM model: 0.7969455050329747\n",
            "              precision    recall  f1-score   support\n",
            "\n",
            "           0       0.83      0.93      0.88      1832\n",
            "           1       0.79      0.63      0.70       456\n",
            "           2       0.67      0.50      0.57       593\n",
            "\n",
            "    accuracy                           0.80      2881\n",
            "   macro avg       0.76      0.69      0.72      2881\n",
            "weighted avg       0.79      0.80      0.79      2881\n",
            "\n",
            "Accuracy of loaded model: 0.7969455050329747\n"
          ]
        }
      ],
      "source": [
        "# Initialisation du modèle SVM\n",
        "model_svm = SVC(random_state=42)\n",
        "\n",
        "# Entraînement du modèle\n",
        "model_svm.fit(X_train, y_train)\n",
        "\n",
        "# Prédictions sur les données de test\n",
        "y_pred_svm = model_svm.predict(X_test)\n",
        "\n",
        "# Calcul de l'accuracy\n",
        "accuracy_svm = accuracy_score(y_test, y_pred_svm)\n",
        "print(\"Accuracy of SVM model:\", accuracy_svm)\n",
        "\n",
        "# Rapport de classification\n",
        "cf_SVM = classification_report(y_test, y_pred_svm)\n",
        "print(cf_SVM)"
      ]
    },
    {
      "cell_type": "markdown",
      "source": [
        "2.   Avec **TF-idf**"
      ],
      "metadata": {
        "id": "JzycIaIIKOrt"
      }
    },
    {
      "cell_type": "code",
      "execution_count": 133,
      "metadata": {
        "colab": {
          "base_uri": "https://localhost:8080/"
        },
        "id": "CQOX7wKHvEUu",
        "outputId": "2beaebf5-efd8-4101-b2c2-a7a1aaffe0ec"
      },
      "outputs": [
        {
          "output_type": "stream",
          "name": "stderr",
          "text": [
            "<ipython-input-133-c150e42b13c5>:4: SettingWithCopyWarning: \n",
            "A value is trying to be set on a copy of a slice from a DataFrame.\n",
            "Try using .loc[row_indexer,col_indexer] = value instead\n",
            "\n",
            "See the caveats in the documentation: https://pandas.pydata.org/pandas-docs/stable/user_guide/indexing.html#returning-a-view-versus-a-copy\n",
            "  df_model['clean_text'] = df_model['clean_text'].fillna('')\n"
          ]
        },
        {
          "output_type": "stream",
          "name": "stdout",
          "text": [
            "(14404, 3000)\n"
          ]
        }
      ],
      "source": [
        "from sklearn.feature_extraction.text import TfidfVectorizer\n",
        "\n",
        "# Remplacer les NaN par une chaîne vide\n",
        "df_model['clean_text'] = df_model['clean_text'].fillna('')\n",
        "\n",
        "# Appliquer la vectorisation avec TF-IDF\n",
        "tfidf = TfidfVectorizer(max_features=3000)\n",
        "X_fin_tfidf = tfidf.fit_transform(df_model['clean_text']).toarray()\n",
        "\n",
        "# Afficher la forme de la matrice\n",
        "print(X_fin_tfidf.shape)"
      ]
    },
    {
      "cell_type": "code",
      "execution_count": 134,
      "metadata": {
        "id": "3cRTJdKbzMzo"
      },
      "outputs": [],
      "source": [
        "X_train, X_test, y_train, y_test = train_test_split(X_fin_tfidf,y,test_size=0.2)"
      ]
    },
    {
      "cell_type": "code",
      "execution_count": 135,
      "metadata": {
        "colab": {
          "base_uri": "https://localhost:8080/"
        },
        "id": "-ZTDw0d30N7S",
        "outputId": "5216dede-52e5-4598-bb66-dcad4457b1a8"
      },
      "outputs": [
        {
          "output_type": "stream",
          "name": "stdout",
          "text": [
            "Test accuracy: 0.7646650468587296\n",
            "              precision    recall  f1-score   support\n",
            "\n",
            "           0       0.80      0.92      0.85      1848\n",
            "           1       0.76      0.53      0.62       476\n",
            "           2       0.61      0.45      0.52       557\n",
            "\n",
            "    accuracy                           0.76      2881\n",
            "   macro avg       0.72      0.63      0.67      2881\n",
            "weighted avg       0.75      0.76      0.75      2881\n",
            "\n",
            "0.7646650468587296\n"
          ]
        }
      ],
      "source": [
        "from sklearn.ensemble import RandomForestClassifier\n",
        "# Initialisation du modèle RandomForest\n",
        "model1 = RandomForestClassifier(random_state=42)\n",
        "# Entraînement du modèle\n",
        "model1.fit(X_train, y_train)\n",
        "# Prédictions sur les données de test\n",
        "y_pred1 = model1.predict(X_test)\n",
        "# Calcul de l'accuracy\n",
        "accuracy_rf = accuracy_score(y_test, y_pred1)\n",
        "print(\"Test accuracy:\", accuracy_rf)\n",
        "cf_rf=classification_report(y_test,y_pred1)\n",
        "print(cf_rf)"
      ]
    },
    {
      "cell_type": "code",
      "execution_count": 136,
      "metadata": {
        "id": "UHe4fsTY048X",
        "colab": {
          "base_uri": "https://localhost:8080/"
        },
        "outputId": "a1a2a4f0-c6b2-4b70-b097-0403a3cd7505"
      },
      "outputs": [
        {
          "output_type": "stream",
          "name": "stdout",
          "text": [
            "Test Accuracy: 0.7906976744186046\n",
            "              precision    recall  f1-score   support\n",
            "\n",
            "           0       0.82      0.93      0.87      1848\n",
            "           1       0.83      0.58      0.68       476\n",
            "           2       0.62      0.51      0.56       557\n",
            "\n",
            "    accuracy                           0.79      2881\n",
            "   macro avg       0.76      0.67      0.71      2881\n",
            "weighted avg       0.78      0.79      0.78      2881\n",
            "\n",
            "0.7906976744186046\n"
          ]
        }
      ],
      "source": [
        "# Initialisation du modèle LogisticRegression\n",
        "model3 = LogisticRegression(random_state=42)\n",
        "\n",
        "# Entraînement du modèle\n",
        "model3.fit(X_train, y_train)\n",
        "\n",
        "# Prédictions sur les données de test\n",
        "y_pred3 = model3.predict(X_test)\n",
        "\n",
        "# Calcul de l'accuracy\n",
        "accuracy_LR = accuracy_score(y_test, y_pred3)\n",
        "print(\"Test Accuracy:\", accuracy_LR)\n",
        "\n",
        "# Rapport de classification\n",
        "cf_LR = classification_report(y_test, y_pred3)\n",
        "print(cf_LR)"
      ]
    },
    {
      "cell_type": "code",
      "execution_count": 137,
      "metadata": {
        "id": "hM36PgQ5ODOX",
        "colab": {
          "base_uri": "https://localhost:8080/"
        },
        "outputId": "2d2d78c8-e29a-4b9d-a658-9e0d2181f299"
      },
      "outputs": [
        {
          "output_type": "stream",
          "name": "stdout",
          "text": [
            "Test Accuracy: 0.7466157584172163\n",
            "              precision    recall  f1-score   support\n",
            "\n",
            "           0       0.74      0.97      0.84      1848\n",
            "           1       0.86      0.39      0.54       476\n",
            "           2       0.67      0.30      0.42       557\n",
            "\n",
            "    accuracy                           0.75      2881\n",
            "   macro avg       0.76      0.55      0.60      2881\n",
            "weighted avg       0.75      0.75      0.71      2881\n",
            "\n",
            "0.7466157584172163\n"
          ]
        }
      ],
      "source": [
        "from sklearn.naive_bayes import MultinomialNB\n",
        "\n",
        "# Initialisation du modèle MultinomialNB\n",
        "model2 = MultinomialNB()\n",
        "\n",
        "# Entraînement du modèle\n",
        "model2.fit(X_train, y_train)\n",
        "\n",
        "# Prédictions sur les données de test\n",
        "y_pred2 = model2.predict(X_test)\n",
        "\n",
        "# Calcul de l'accuracy\n",
        "accuracy_NB = accuracy_score(y_test, y_pred2)\n",
        "print(\"Test Accuracy:\", accuracy_NB)\n",
        "\n",
        "# Rapport de classification\n",
        "cf_NB = classification_report(y_test, y_pred2)\n",
        "print(cf_NB)"
      ]
    },
    {
      "cell_type": "code",
      "execution_count": 138,
      "metadata": {
        "id": "7cXliVqb10cY",
        "colab": {
          "base_uri": "https://localhost:8080/"
        },
        "outputId": "8a4c661f-3eed-4594-9cf2-bc218346106e"
      },
      "outputs": [
        {
          "output_type": "stream",
          "name": "stdout",
          "text": [
            "Accuracy of SVM model: 0.794168691426588\n",
            "              precision    recall  f1-score   support\n",
            "\n",
            "           0       0.81      0.95      0.87      1848\n",
            "           1       0.85      0.58      0.69       476\n",
            "           2       0.67      0.45      0.54       557\n",
            "\n",
            "    accuracy                           0.79      2881\n",
            "   macro avg       0.78      0.66      0.70      2881\n",
            "weighted avg       0.79      0.79      0.78      2881\n",
            "\n",
            "0.794168691426588\n"
          ]
        }
      ],
      "source": [
        "from sklearn.svm import SVC\n",
        "from sklearn.metrics import accuracy_score, classification_report\n",
        "import joblib\n",
        "\n",
        "# Initialisation du modèle SVM\n",
        "model_svm = SVC(random_state=42)\n",
        "\n",
        "# Entraînement du modèle\n",
        "model_svm.fit(X_train, y_train)\n",
        "\n",
        "# Prédictions sur les données de test\n",
        "y_pred_svm = model_svm.predict(X_test)\n",
        "\n",
        "# Calcul de l'accuracy\n",
        "accuracy_svm = accuracy_score(y_test, y_pred_svm)\n",
        "print(\"Accuracy of SVM model:\", accuracy_svm)\n",
        "\n",
        "# Rapport de classification\n",
        "cf_SVM = classification_report(y_test, y_pred_svm)\n",
        "print(cf_SVM)"
      ]
    },
    {
      "cell_type": "markdown",
      "source": [
        "3.   Avec **ngram**"
      ],
      "metadata": {
        "id": "zQWWRNGOKUjl"
      }
    },
    {
      "cell_type": "code",
      "execution_count": 139,
      "metadata": {
        "id": "Wa6ewyFC3kkM",
        "colab": {
          "base_uri": "https://localhost:8080/"
        },
        "outputId": "9aa2c2ef-9b26-4525-a2db-1865b4de9770"
      },
      "outputs": [
        {
          "output_type": "stream",
          "name": "stderr",
          "text": [
            "<ipython-input-139-7db027d5e8e7>:2: SettingWithCopyWarning: \n",
            "A value is trying to be set on a copy of a slice from a DataFrame.\n",
            "Try using .loc[row_indexer,col_indexer] = value instead\n",
            "\n",
            "See the caveats in the documentation: https://pandas.pydata.org/pandas-docs/stable/user_guide/indexing.html#returning-a-view-versus-a-copy\n",
            "  df_model['clean_text'] = df_model['clean_text'].fillna('')\n"
          ]
        },
        {
          "output_type": "stream",
          "name": "stdout",
          "text": [
            "(14404, 3000)\n",
            "Features (n-grams): ['aa' 'aa flight' 'aadvantage' 'abc' 'ability' 'able' 'able get' 'abq'\n",
            " 'absolute' 'absolutely' 'absurd' 'accept' 'acceptable' 'accepted'\n",
            " 'accepting' 'access' 'accommodate' 'accommodation' 'according' 'account']\n"
          ]
        }
      ],
      "source": [
        "# Remplacer les NaN par une chaîne vide\n",
        "df_model['clean_text'] = df_model['clean_text'].fillna('')\n",
        "\n",
        "# Appliquer la vectorisation avec n-grams\n",
        "ngram_vectorizer = CountVectorizer(max_features=3000, ngram_range=(1, 2))  # n-grams de taille 1 (unigram) à 2 (bigram)\n",
        "X_ngram = ngram_vectorizer.fit_transform(df_model['clean_text']).toarray()\n",
        "\n",
        "# Afficher la forme de la matrice\n",
        "print(X_ngram.shape)\n",
        "\n",
        "# Afficher quelques n-grams\n",
        "print(\"Features (n-grams):\", ngram_vectorizer.get_feature_names_out()[:20])  # Affiche les 20 premiers n-grams"
      ]
    },
    {
      "cell_type": "code",
      "execution_count": 140,
      "metadata": {
        "id": "ckGu64FG4I3s"
      },
      "outputs": [],
      "source": [
        "X_train, X_test, y_train, y_test = train_test_split(X_ngram, y, test_size=0.2, random_state=42)"
      ]
    },
    {
      "cell_type": "code",
      "execution_count": 141,
      "metadata": {
        "id": "_Gcee_UD4hX3",
        "colab": {
          "base_uri": "https://localhost:8080/"
        },
        "outputId": "ad50711b-c424-4452-94a4-74c36e3ba489"
      },
      "outputs": [
        {
          "output_type": "stream",
          "name": "stdout",
          "text": [
            "Test accuracy: 0.7726483859770913\n",
            "              precision    recall  f1-score   support\n",
            "\n",
            "           0       0.83      0.89      0.86      1866\n",
            "           1       0.71      0.64      0.67       463\n",
            "           2       0.58      0.48      0.52       552\n",
            "\n",
            "    accuracy                           0.77      2881\n",
            "   macro avg       0.71      0.67      0.69      2881\n",
            "weighted avg       0.76      0.77      0.77      2881\n",
            "\n"
          ]
        }
      ],
      "source": [
        "from sklearn.ensemble import RandomForestClassifier\n",
        "# Initialisation du modèle RandomForest\n",
        "model1 = RandomForestClassifier(random_state=42)\n",
        "# Entraînement du modèle\n",
        "model1.fit(X_train, y_train)\n",
        "# Prédictions sur les données de test\n",
        "y_pred1 = model1.predict(X_test)\n",
        "# Calcul de l'accuracy\n",
        "accuracy_rf = accuracy_score(y_test, y_pred1)\n",
        "print(\"Test accuracy:\", accuracy_rf)\n",
        "cf_rf=classification_report(y_test,y_pred1)\n",
        "print(cf_rf)"
      ]
    },
    {
      "cell_type": "code",
      "execution_count": 142,
      "metadata": {
        "id": "oVtez3tQ406h",
        "colab": {
          "base_uri": "https://localhost:8080/"
        },
        "outputId": "004e54f2-c674-412a-8ab7-457b2e357f00"
      },
      "outputs": [
        {
          "output_type": "stream",
          "name": "stdout",
          "text": [
            "Test Accuracy: 0.7979868101353697\n",
            "              precision    recall  f1-score   support\n",
            "\n",
            "           0       0.86      0.89      0.87      1866\n",
            "           1       0.78      0.70      0.74       463\n",
            "           2       0.58      0.58      0.58       552\n",
            "\n",
            "    accuracy                           0.80      2881\n",
            "   macro avg       0.74      0.72      0.73      2881\n",
            "weighted avg       0.80      0.80      0.80      2881\n",
            "\n"
          ]
        }
      ],
      "source": [
        "model3 = LogisticRegression()\n",
        "model3.fit(X_train, y_train)\n",
        "y_pred3=model3.predict(X_test)\n",
        "y_pred3\n",
        "accuracy_LR = accuracy_score(y_test, y_pred3)\n",
        "print(\"Test Accuracy:\", accuracy_LR)\n",
        "cf_LR=classification_report(y_test,y_pred3)\n",
        "print(cf_LR)"
      ]
    },
    {
      "cell_type": "code",
      "execution_count": 79,
      "metadata": {
        "id": "BXD-d_P94_8Z",
        "colab": {
          "base_uri": "https://localhost:8080/"
        },
        "outputId": "d97fcbf2-1356-43d0-eb5e-f393dd87bc5a"
      },
      "outputs": [
        {
          "output_type": "stream",
          "name": "stdout",
          "text": [
            "Accuracy of SVM model: 0.792086081221798\n",
            "              precision    recall  f1-score   support\n",
            "\n",
            "           0       0.83      0.93      0.87      1866\n",
            "           1       0.82      0.59      0.69       463\n",
            "           2       0.61      0.51      0.56       552\n",
            "\n",
            "    accuracy                           0.79      2881\n",
            "   macro avg       0.75      0.68      0.71      2881\n",
            "weighted avg       0.78      0.79      0.78      2881\n",
            "\n"
          ]
        }
      ],
      "source": [
        "from sklearn.svm import SVC\n",
        "# Initialisation du modèle SVM\n",
        "model_svm = SVC(random_state=42)\n",
        "\n",
        "# Entraînement du modèle\n",
        "model_svm.fit(X_train, y_train)\n",
        "\n",
        "# Prédictions sur les données de test\n",
        "y_pred_svm = model_svm.predict(X_test)\n",
        "\n",
        "# Calcul de l'accuracy\n",
        "accuracy_svm = accuracy_score(y_test, y_pred_svm)\n",
        "print(\"Accuracy of SVM model:\", accuracy_svm)\n",
        "cf_SVM=classification_report(y_test,y_pred_svm)\n",
        "print(cf_SVM)"
      ]
    },
    {
      "cell_type": "code",
      "execution_count": 143,
      "metadata": {
        "id": "h3sg0JZbPeAE",
        "colab": {
          "base_uri": "https://localhost:8080/"
        },
        "outputId": "34d7da69-e137-490c-a5d6-9736549fce44"
      },
      "outputs": [
        {
          "output_type": "stream",
          "name": "stdout",
          "text": [
            "Test Accuracy: 0.7698715723707046\n",
            "              precision    recall  f1-score   support\n",
            "\n",
            "           0       0.84      0.86      0.85      1866\n",
            "           1       0.71      0.70      0.71       463\n",
            "           2       0.55      0.52      0.53       552\n",
            "\n",
            "    accuracy                           0.77      2881\n",
            "   macro avg       0.70      0.69      0.70      2881\n",
            "weighted avg       0.77      0.77      0.77      2881\n",
            "\n"
          ]
        }
      ],
      "source": [
        "model2= MultinomialNB()\n",
        "model2.fit(X_train, y_train)\n",
        "y_pred2=model2.predict(X_test)\n",
        "y_pred2\n",
        "accuracy_NB = accuracy_score(y_test, y_pred2)\n",
        "print(\"Test Accuracy:\", accuracy_NB)\n",
        "cf_NB=classification_report(y_test,y_pred2)\n",
        "print(cf_NB)"
      ]
    },
    {
      "cell_type": "code",
      "execution_count": 144,
      "metadata": {
        "id": "VcQ9vd2v5Bcs"
      },
      "outputs": [],
      "source": [
        "y=df_model[\"airline_sentiment\"]\n",
        "sentiment_ordering= ['negative','positive','neutral']\n",
        "y= y.apply(lambda x: sentiment_ordering.index(x))"
      ]
    },
    {
      "cell_type": "markdown",
      "source": [
        "**Application modele DL**"
      ],
      "metadata": {
        "id": "S39xn_viK08A"
      }
    },
    {
      "cell_type": "code",
      "execution_count": 165,
      "metadata": {
        "id": "dhiirMlU5CZx",
        "colab": {
          "base_uri": "https://localhost:8080/",
          "height": 194
        },
        "outputId": "6e7324c9-9e0e-4448-d37b-3d01317c5ae1"
      },
      "outputs": [
        {
          "output_type": "stream",
          "name": "stderr",
          "text": [
            "<ipython-input-165-9ae3bdcf62db>:10: SettingWithCopyWarning: \n",
            "A value is trying to be set on a copy of a slice from a DataFrame.\n",
            "Try using .loc[row_indexer,col_indexer] = value instead\n",
            "\n",
            "See the caveats in the documentation: https://pandas.pydata.org/pandas-docs/stable/user_guide/indexing.html#returning-a-view-versus-a-copy\n",
            "  df_model['clean_text'] = df_model['clean_text'].fillna('').astype(str)\n"
          ]
        },
        {
          "output_type": "execute_result",
          "data": {
            "text/plain": [
              "\"\\n# Division des données en ensembles d'entraînement et de test\\nXX_train, XX_test, y_train, y_test = train_test_split(X_DeepLearning, labels, test_size=0.20, random_state=42)\\n\\n# Affichage des dimensions des données d'entraînement et de test\\nprint(XX_train.shape, y_train.shape, XX_test.shape, y_test.shape)\""
            ],
            "application/vnd.google.colaboratory.intrinsic+json": {
              "type": "string"
            }
          },
          "metadata": {},
          "execution_count": 165
        }
      ],
      "source": [
        "from tensorflow.keras.preprocessing.text import Tokenizer\n",
        "from tensorflow.keras.preprocessing.sequence import pad_sequences\n",
        "from sklearn.model_selection import train_test_split\n",
        "\n",
        "# Paramètres du tokenizer\n",
        "vocabulary_size = 4000\n",
        "max_text_len = 50\n",
        "\n",
        "# Remplacer les NaN par des chaînes vides et s'assurer que toutes les valeurs sont des chaînes de caractères\n",
        "df_model['clean_text'] = df_model['clean_text'].fillna('').astype(str)\n",
        "\n",
        "# Tokenisation des textes\n",
        "tokenizer = Tokenizer(num_words=vocabulary_size)\n",
        "tokenizer.fit_on_texts(df_model['clean_text'].values)\n",
        "sequences = tokenizer.texts_to_sequences(df_model['clean_text'].values)\n",
        "\n",
        "# Padding des séquences\n",
        "X_DeepLearning = pad_sequences(sequences, maxlen=max_text_len)\n",
        "\n",
        "# Définir les labels (ici, 'airline_sentiment' est la colonne des étiquettes)\n",
        "labels = df_model['airline_sentiment'].values\n",
        "'''\n",
        "# Division des données en ensembles d'entraînement et de test\n",
        "XX_train, XX_test, y_train, y_test = train_test_split(X_DeepLearning, labels, test_size=0.20, random_state=42)\n",
        "\n",
        "# Affichage des dimensions des données d'entraînement et de test\n",
        "print(XX_train.shape, y_train.shape, XX_test.shape, y_test.shape)'''"
      ]
    },
    {
      "cell_type": "code",
      "execution_count": 166,
      "metadata": {
        "id": "Sy1hM8bz5HTA",
        "colab": {
          "base_uri": "https://localhost:8080/"
        },
        "outputId": "736da46f-54c3-4c1a-be34-4b02cf4d42d4"
      },
      "outputs": [
        {
          "output_type": "stream",
          "name": "stdout",
          "text": [
            "0    0\n",
            "1    0\n",
            "2    2\n",
            "3    0\n",
            "4    2\n",
            "dtype: int64\n",
            "0    0\n",
            "1    0\n",
            "2    0\n",
            "3    0\n",
            "4    0\n",
            "dtype: int64\n",
            "Poids de classe calculés : {0: 0.5267416346681295, 1: 1.6024196912807676, 2: 2.09432933478735}\n"
          ]
        }
      ],
      "source": [
        "# Division des données en ensembles d'entraînement et de test avec stratification\n",
        "XX_train, XX_test, y_train_classes, y_test_classes = train_test_split(\n",
        "    X_DeepLearning, df['airline_sentiment'].values,\n",
        "    test_size=0.2, random_state=42, stratify=df['airline_sentiment'].values)\n",
        "\n",
        "# Conversion des étiquettes en valeurs numériques\n",
        "airline_sentiment = {'negative': 0, 'neutral': 1, 'positive': 2}\n",
        "y_train_classes = pd.Series(y_train_classes).map(airline_sentiment)\n",
        "y_test_classes = pd.Series(y_test_classes).map(airline_sentiment)\n",
        "\n",
        "# Vérifier que les labels ont été correctement convertis en entiers\n",
        "print(y_train_classes.head())\n",
        "print(y_test_classes.head())\n",
        "\n",
        "# Calcul des poids de classe\n",
        "class_weights = compute_class_weight(\n",
        "    class_weight='balanced',\n",
        "    classes=np.unique(y_train_classes),\n",
        "    y=y_train_classes\n",
        ")\n",
        "\n",
        "# Conversion en dictionnaire pour Keras\n",
        "class_weights = dict(enumerate(class_weights))\n",
        "\n",
        "# Affichage des poids\n",
        "print(\"Poids de classe calculés :\", class_weights)"
      ]
    },
    {
      "cell_type": "code",
      "execution_count": 167,
      "metadata": {
        "id": "_5sZ4HYx5RFH",
        "colab": {
          "base_uri": "https://localhost:8080/"
        },
        "outputId": "05baefb6-fd75-4700-9804-a33ad4fbce0d"
      },
      "outputs": [
        {
          "metadata": {
            "tags": null
          },
          "name": "stdout",
          "output_type": "stream",
          "text": [
            "Epoch 1/30\n"
          ]
        },
        {
          "metadata": {
            "tags": null
          },
          "name": "stderr",
          "output_type": "stream",
          "text": [
            "/usr/local/lib/python3.10/dist-packages/keras/src/layers/core/embedding.py:90: UserWarning: Argument `input_length` is deprecated. Just remove it.\n",
            "  warnings.warn(\n"
          ]
        },
        {
          "output_type": "stream",
          "name": "stdout",
          "text": [
            "\u001b[1m181/181\u001b[0m \u001b[32m━━━━━━━━━━━━━━━━━━━━\u001b[0m\u001b[37m\u001b[0m \u001b[1m19s\u001b[0m 85ms/step - accuracy: 0.5687 - loss: 1.9366 - val_accuracy: 0.2812 - val_loss: 1.4818 - learning_rate: 5.0000e-04\n",
            "Epoch 2/30\n",
            "\u001b[1m181/181\u001b[0m \u001b[32m━━━━━━━━━━━━━━━━━━━━\u001b[0m\u001b[37m\u001b[0m \u001b[1m20s\u001b[0m 84ms/step - accuracy: 0.7530 - loss: 0.9384 - val_accuracy: 0.7508 - val_loss: 0.8934 - learning_rate: 5.0000e-04\n",
            "Epoch 3/30\n",
            "\u001b[1m181/181\u001b[0m \u001b[32m━━━━━━━━━━━━━━━━━━━━\u001b[0m\u001b[37m\u001b[0m \u001b[1m15s\u001b[0m 84ms/step - accuracy: 0.8115 - loss: 0.6371 - val_accuracy: 0.6890 - val_loss: 0.7762 - learning_rate: 5.0000e-04\n",
            "Epoch 4/30\n",
            "\u001b[1m181/181\u001b[0m \u001b[32m━━━━━━━━━━━━━━━━━━━━\u001b[0m\u001b[37m\u001b[0m \u001b[1m15s\u001b[0m 82ms/step - accuracy: 0.8500 - loss: 0.4695 - val_accuracy: 0.6595 - val_loss: 0.8949 - learning_rate: 5.0000e-04\n",
            "Epoch 5/30\n",
            "\u001b[1m181/181\u001b[0m \u001b[32m━━━━━━━━━━━━━━━━━━━━\u001b[0m\u001b[37m\u001b[0m \u001b[1m21s\u001b[0m 86ms/step - accuracy: 0.8776 - loss: 0.3818 - val_accuracy: 0.6921 - val_loss: 0.8917 - learning_rate: 5.0000e-04\n",
            "Epoch 6/30\n",
            "\u001b[1m181/181\u001b[0m \u001b[32m━━━━━━━━━━━━━━━━━━━━\u001b[0m\u001b[37m\u001b[0m \u001b[1m20s\u001b[0m 85ms/step - accuracy: 0.8954 - loss: 0.3241 - val_accuracy: 0.7636 - val_loss: 0.7078 - learning_rate: 5.0000e-04\n",
            "Epoch 7/30\n",
            "\u001b[1m181/181\u001b[0m \u001b[32m━━━━━━━━━━━━━━━━━━━━\u001b[0m\u001b[37m\u001b[0m \u001b[1m15s\u001b[0m 82ms/step - accuracy: 0.9166 - loss: 0.2690 - val_accuracy: 0.6817 - val_loss: 0.9565 - learning_rate: 5.0000e-04\n",
            "Epoch 8/30\n",
            "\u001b[1m181/181\u001b[0m \u001b[32m━━━━━━━━━━━━━━━━━━━━\u001b[0m\u001b[37m\u001b[0m \u001b[1m21s\u001b[0m 86ms/step - accuracy: 0.9299 - loss: 0.2297 - val_accuracy: 0.7730 - val_loss: 0.7611 - learning_rate: 5.0000e-04\n",
            "Epoch 9/30\n",
            "\u001b[1m180/181\u001b[0m \u001b[32m━━━━━━━━━━━━━━━━━━━\u001b[0m\u001b[37m━\u001b[0m \u001b[1m0s\u001b[0m 85ms/step - accuracy: 0.9423 - loss: 0.1960\n",
            "Epoch 9: ReduceLROnPlateau reducing learning rate to 0.0002500000118743628.\n",
            "\u001b[1m181/181\u001b[0m \u001b[32m━━━━━━━━━━━━━━━━━━━━\u001b[0m\u001b[37m\u001b[0m \u001b[1m21s\u001b[0m 92ms/step - accuracy: 0.9423 - loss: 0.1962 - val_accuracy: 0.7664 - val_loss: 0.8130 - learning_rate: 5.0000e-04\n",
            "Epoch 10/30\n",
            "\u001b[1m181/181\u001b[0m \u001b[32m━━━━━━━━━━━━━━━━━━━━\u001b[0m\u001b[37m\u001b[0m \u001b[1m19s\u001b[0m 85ms/step - accuracy: 0.9565 - loss: 0.1608 - val_accuracy: 0.7147 - val_loss: 1.1144 - learning_rate: 2.5000e-04\n",
            "Epoch 11/30\n",
            "\u001b[1m181/181\u001b[0m \u001b[32m━━━━━━━━━━━━━━━━━━━━\u001b[0m\u001b[37m\u001b[0m \u001b[1m20s\u001b[0m 83ms/step - accuracy: 0.9649 - loss: 0.1324 - val_accuracy: 0.7334 - val_loss: 1.0488 - learning_rate: 2.5000e-04\n"
          ]
        }
      ],
      "source": [
        "from tensorflow.keras.models import Sequential\n",
        "from tensorflow.keras.layers import Dense, Embedding, Conv1D, MaxPooling1D, Flatten, Dropout, BatchNormalization, LSTM\n",
        "from tensorflow.keras.optimizers import RMSprop\n",
        "from tensorflow.keras.callbacks import ReduceLROnPlateau, EarlyStopping\n",
        "from tensorflow.keras.regularizers import l2\n",
        "\n",
        "# Hyperparamètres\n",
        "embedding_dim = 100\n",
        "vocabulary_size = 5000\n",
        "max_text_len = 100\n",
        "filters = 64\n",
        "kernel_size = 3\n",
        "\n",
        "# Initialisation du modèle\n",
        "model = Sequential()\n",
        "\n",
        "# Couche d'embedding\n",
        "model.add(Embedding(input_dim=vocabulary_size, output_dim=embedding_dim, input_length=max_text_len))\n",
        "\n",
        "# Couche convolutionnelle + pooling\n",
        "model.add(Conv1D(filters=filters, kernel_size=kernel_size, activation='relu'))\n",
        "model.add(BatchNormalization())\n",
        "model.add(MaxPooling1D(pool_size=2))\n",
        "\n",
        "# Couche LSTM\n",
        "model.add(LSTM(128, return_sequences=False, dropout=0.3, recurrent_dropout=0.2))\n",
        "\n",
        "# Couche dense avec régularisation\n",
        "model.add(Dense(128, activation='relu', kernel_regularizer=l2(0.01)))\n",
        "model.add(Dropout(0.5))\n",
        "\n",
        "# Couche de sortie\n",
        "model.add(Dense(3, activation='softmax'))\n",
        "\n",
        "# Compilation avec RMSprop\n",
        "optimizer = RMSprop(learning_rate=0.0005)\n",
        "model.compile(optimizer=optimizer, loss='sparse_categorical_crossentropy', metrics=['accuracy'])\n",
        "\n",
        "# Callbacks pour early stopping et réduction du learning rate\n",
        "early_stopping = EarlyStopping(monitor='val_loss', patience=5, restore_best_weights=True)\n",
        "lr_scheduler = ReduceLROnPlateau(monitor='val_loss', factor=0.5, patience=3, verbose=1)\n",
        "\n",
        "# Entraînement\n",
        "history = model.fit(\n",
        "    XX_train,\n",
        "    y_train_classes,\n",
        "    epochs=30,\n",
        "    batch_size=64,\n",
        "    validation_data=(XX_test, y_test_classes),\n",
        "    class_weight=class_weights,\n",
        "    callbacks=[lr_scheduler, early_stopping]\n",
        ")\n"
      ]
    },
    {
      "cell_type": "code",
      "execution_count": 168,
      "metadata": {
        "id": "sJIyOWlD5SFm",
        "colab": {
          "base_uri": "https://localhost:8080/"
        },
        "outputId": "3fa99e4d-5099-490c-f25c-b02914e4bbc2"
      },
      "outputs": [
        {
          "output_type": "stream",
          "name": "stdout",
          "text": [
            "Epoch 1/5\n",
            "\u001b[1m361/361\u001b[0m \u001b[32m━━━━━━━━━━━━━━━━━━━━\u001b[0m\u001b[37m\u001b[0m \u001b[1m23s\u001b[0m 63ms/step - accuracy: 0.9194 - loss: 0.2617 - val_accuracy: 0.7584 - val_loss: 0.7950\n",
            "Epoch 2/5\n",
            "\u001b[1m361/361\u001b[0m \u001b[32m━━━━━━━━━━━━━━━━━━━━\u001b[0m\u001b[37m\u001b[0m \u001b[1m21s\u001b[0m 58ms/step - accuracy: 0.9301 - loss: 0.2269 - val_accuracy: 0.7626 - val_loss: 0.7673\n",
            "Epoch 3/5\n",
            "\u001b[1m361/361\u001b[0m \u001b[32m━━━━━━━━━━━━━━━━━━━━\u001b[0m\u001b[37m\u001b[0m \u001b[1m43s\u001b[0m 64ms/step - accuracy: 0.9400 - loss: 0.2075 - val_accuracy: 0.7661 - val_loss: 0.8058\n",
            "Epoch 4/5\n",
            "\u001b[1m361/361\u001b[0m \u001b[32m━━━━━━━━━━━━━━━━━━━━\u001b[0m\u001b[37m\u001b[0m \u001b[1m41s\u001b[0m 64ms/step - accuracy: 0.9439 - loss: 0.1860 - val_accuracy: 0.6966 - val_loss: 1.0902\n",
            "Epoch 5/5\n",
            "\u001b[1m361/361\u001b[0m \u001b[32m━━━━━━━━━━━━━━━━━━━━\u001b[0m\u001b[37m\u001b[0m \u001b[1m41s\u001b[0m 63ms/step - accuracy: 0.9496 - loss: 0.1754 - val_accuracy: 0.7699 - val_loss: 0.8706\n",
            "\u001b[1m91/91\u001b[0m \u001b[32m━━━━━━━━━━━━━━━━━━━━\u001b[0m\u001b[37m\u001b[0m \u001b[1m2s\u001b[0m 17ms/step - accuracy: 0.7705 - loss: 0.8691\n",
            "Test Accuracy: 76.99%\n"
          ]
        }
      ],
      "source": [
        "import tensorflow as tf\n",
        "# Entraîner le modèle\n",
        "history = model.fit(\n",
        "    XX_train,\n",
        "    y_train_classes,\n",
        "    epochs=5,\n",
        "    batch_size=32,\n",
        "    validation_data=(XX_test, y_test_classes),\n",
        "    class_weight=class_weights\n",
        ")\n",
        "\n",
        "# Évaluer le modèle sur les données de test\n",
        "test_loss, test_accuracy = model.evaluate(XX_test, y_test_classes, batch_size=32)\n",
        "\n",
        "print(f\"Test Accuracy: {test_accuracy * 100:.2f}%\")"
      ]
    },
    {
      "cell_type": "code",
      "source": [],
      "metadata": {
        "id": "NtzetcRCOu8F"
      },
      "execution_count": null,
      "outputs": []
    }
  ],
  "metadata": {
    "colab": {
      "provenance": []
    },
    "kernelspec": {
      "display_name": "Python 3",
      "name": "python3"
    },
    "language_info": {
      "name": "python"
    }
  },
  "nbformat": 4,
  "nbformat_minor": 0
}